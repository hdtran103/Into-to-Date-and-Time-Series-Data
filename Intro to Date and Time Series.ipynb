{
 "cells": [
  {
   "cell_type": "markdown",
   "id": "466572bf",
   "metadata": {},
   "source": [
    "Time Series Basics\n",
    "\n",
    "    What is a time series? What is required to be considered time series data?\n",
    "\n",
    "    A time series is any data in which the rows represent different points in time. It can be just a date, just a time, or a combination of both date and time.\n",
    "    A time series may have rows that represent evenly spaced times or the rows may represent unevenly spaced times.\n",
    "        If the times are evenly spaced, the time series has a frequency. This means there is a fixed distance between each observation/row (e.g. daily, monthly, yearly, etc)\n",
    "\n",
    "Representing Time Series in Python\n",
    "\n",
    "    There are 2 primary ways we will represent date/time with Python:\n",
    "        Python's datetime module with datetime variables.\n",
    "            https://docs.python.org/3/library/datetime.html\n",
    "        Pandas' Custom Datetime Classes are built on top of Python's datetime objects.\n",
    "            https://pandas.pydata.org/docs/user_guide/timeseries.html\n",
    "    Pandas makes it easy to convert any column of date/time values into a \"datetime\" datatype but uses its own classes which work similarly to standard Python datetime variables.\n",
    "\n",
    "datetime Objects (Basic Python)\n",
    "\n",
    "    Python has a datetime module that has a date class (dates without hours/minutes/seconds), a time class (hours/minutes/seconds without a date) and a datetime class, which is a combination of both.\n",
    "    We will use the datetime class as it is the most flexible.\n",
    "\n",
    "First, we must import the datetime library:"
   ]
  },
  {
   "cell_type": "code",
   "execution_count": 1,
   "id": "e1c2890b",
   "metadata": {},
   "outputs": [],
   "source": [
    "import datetime as dt"
   ]
  },
  {
   "cell_type": "markdown",
   "id": "83d777a0",
   "metadata": {},
   "source": [
    "dt has .datetime methods. For example, we can obtain the current date and time with .now()"
   ]
  },
  {
   "cell_type": "code",
   "execution_count": 2,
   "id": "e39187bd",
   "metadata": {},
   "outputs": [
    {
     "data": {
      "text/plain": [
       "datetime.datetime(2023, 9, 23, 17, 13, 13, 638679)"
      ]
     },
     "execution_count": 2,
     "metadata": {},
     "output_type": "execute_result"
    }
   ],
   "source": [
    "now = dt.datetime.now()\n",
    "now"
   ]
  },
  {
   "cell_type": "markdown",
   "id": "aaba14e2",
   "metadata": {},
   "source": [
    "**Note that your output will be different, and should be the current date and time.**"
   ]
  },
  {
   "cell_type": "markdown",
   "id": "682a0852",
   "metadata": {},
   "source": [
    "Notice the formatting of the output: It contains the year, month, day, hour, minute, second, and microsecond.\n",
    "\n",
    "We can extract each of these individual pieces of the date and time as attributes:\n",
    "\n",
    "        For Example:\n",
    "            .to obtain just the year, use .year\n",
    "            to obtain just the month, use .month\n",
    "            etc. "
   ]
  },
  {
   "cell_type": "code",
   "execution_count": 3,
   "id": "d9754017",
   "metadata": {},
   "outputs": [
    {
     "data": {
      "text/plain": [
       "2023"
      ]
     },
     "execution_count": 3,
     "metadata": {},
     "output_type": "execute_result"
    }
   ],
   "source": [
    "## use datetime attribute to obtain just the year\n",
    "now.year"
   ]
  },
  {
   "cell_type": "markdown",
   "id": "5ddb1f12",
   "metadata": {},
   "source": [
    "Datetime Formatting\n",
    "\n",
    "Displayed\n",
    "\n",
    "    When datetime variables are displayed, we see all of the individual pieces of the date as a list."
   ]
  },
  {
   "cell_type": "code",
   "execution_count": 4,
   "id": "a9ba2a50",
   "metadata": {},
   "outputs": [
    {
     "data": {
      "text/plain": [
       "datetime.datetime(2023, 9, 23, 17, 13, 13, 638679)"
      ]
     },
     "metadata": {},
     "output_type": "display_data"
    }
   ],
   "source": [
    "## display using display function\n",
    "display(now)"
   ]
  },
  {
   "cell_type": "code",
   "execution_count": 5,
   "id": "1c010b8b",
   "metadata": {},
   "outputs": [
    {
     "data": {
      "text/plain": [
       "datetime.datetime(2023, 9, 23, 17, 13, 13, 638679)"
      ]
     },
     "execution_count": 5,
     "metadata": {},
     "output_type": "execute_result"
    }
   ],
   "source": [
    "# display by leaving as final line in cell\n",
    "now"
   ]
  },
  {
   "cell_type": "markdown",
   "id": "e88fbe60",
   "metadata": {},
   "source": [
    "Printed\n",
    "\n",
    "    When datetime variables are printed, they look very different:"
   ]
  },
  {
   "cell_type": "code",
   "execution_count": 6,
   "id": "d9301b03",
   "metadata": {},
   "outputs": [
    {
     "name": "stdout",
     "output_type": "stream",
     "text": [
      "2023-09-23 17:13:13.638679\n"
     ]
    }
   ],
   "source": [
    "print(now)"
   ]
  },
  {
   "cell_type": "markdown",
   "id": "221b5b97",
   "metadata": {},
   "source": [
    "    As we can see, this looks a lot closer to how we would expect a date and time to look.\n",
    "    Datetime objects have a specific date format.\n",
    "        The default format for a datetime object is:\n",
    "            {4 digit year}-{2 digit month}-{2 digit day} {hour in 24 hour time}:{minute}:{seconds}.{microseconds}\n",
    "        We can represent this format using a format string: \"%Y-%m-%d %H:%M:%S.%f\" (which we will explain in the next section)\n",
    "    Datetime objects have a method that controls which format is used for printed/text versions of the date, called .strftime.\n",
    "\n",
    "Datetime.strftime\n",
    "As you may imagine, there are many options for how you choose to format dates and times! Refer to Documentation for strftime for a table of format codes. These codes allow you to specify what type of date formatting should be used.\n",
    "\n",
    "Some examples of formatting options:\n",
    "For the day of the month:\n",
    "\n",
    "One option is:\n",
    "\n",
    "    %d: 0-padded 2-digit day of the month (e.g. 01, 12, 26, etc)\n",
    "\n",
    "Try it now and see:"
   ]
  },
  {
   "cell_type": "code",
   "execution_count": 7,
   "id": "9da47f1b",
   "metadata": {},
   "outputs": [
    {
     "data": {
      "text/plain": [
       "'23'"
      ]
     },
     "execution_count": 7,
     "metadata": {},
     "output_type": "execute_result"
    }
   ],
   "source": [
    "# just output the day with a leading 0 if needed\n",
    "format_a = \"%d\"\n",
    "now.strftime(format_a)"
   ]
  },
  {
   "cell_type": "markdown",
   "id": "e6ffd1e1",
   "metadata": {},
   "source": [
    "Notice that since we only specified a format for day in format_a, our output only included the day of the month.\n",
    "\n",
    "For month:\n",
    "\n",
    "A few options are:\n",
    "\n",
    "    %B: full month name (e.g. January, February)\n",
    "    %b: abbreviated month name (e.g. Jan, Feb, etc)\n",
    "    %m: 0-padded 2-digit month of the year (e.g. 01,06,11,12)\n",
    "\n",
    "Let's try adding the full month name before our day of the month"
   ]
  },
  {
   "cell_type": "code",
   "execution_count": 8,
   "id": "c18b9700",
   "metadata": {},
   "outputs": [
    {
     "data": {
      "text/plain": [
       "'September 23'"
      ]
     },
     "execution_count": 8,
     "metadata": {},
     "output_type": "execute_result"
    }
   ],
   "source": [
    "# Add full month name to day of month\n",
    "format_b = \"%B %d\"\n",
    "now.strftime(format_b)"
   ]
  },
  {
   "cell_type": "markdown",
   "id": "340e29eb",
   "metadata": {},
   "source": [
    "Try some of the other options for month! Which do you think looks the best?\n",
    "\n",
    "\n",
    "For the day of the week:\n",
    "\n",
    "One option for day of the week:\n",
    "\n",
    "    %a: Weekday as the locale’s abbreviated name. (e.g. \"Sun, Mon\")\n",
    "\n",
    "Let's start with the day of the week, followed by a comma.\n",
    "\n",
    "    Notice that any additional spacing or characters used when defining the format will be included in the final string."
   ]
  },
  {
   "cell_type": "code",
   "execution_count": 9,
   "id": "12e6518f",
   "metadata": {},
   "outputs": [
    {
     "data": {
      "text/plain": [
       "'Sat, September 23'"
      ]
     },
     "execution_count": 9,
     "metadata": {},
     "output_type": "execute_result"
    }
   ],
   "source": [
    "# Add day of the week to month and day\n",
    "format_c = \"%a, %B %d\"\n",
    "now.strftime(format_c)"
   ]
  },
  {
   "cell_type": "markdown",
   "id": "e07bb0d6",
   "metadata": {},
   "source": [
    "Use the documentation to see what other options for a day of the week you might want to use!\n",
    "https://docs.python.org/3/library/datetime.html#strftime-and-strptime-behavior\n",
    "\n",
    "For the year:\n",
    "\n",
    "A few options include:\n",
    "\n",
    "    %Y: 4-digit year (2000, 2022, etc)\n",
    "    %y: 2-digit 0-padded year without century (eg. 00,22, etc)\n",
    "\n",
    "Let's say we just want to output the abbreviated month and the 2-digit year"
   ]
  },
  {
   "cell_type": "code",
   "execution_count": 10,
   "id": "6bfc663f",
   "metadata": {},
   "outputs": [
    {
     "data": {
      "text/plain": [
       "'Sep 23'"
      ]
     },
     "execution_count": 10,
     "metadata": {},
     "output_type": "execute_result"
    }
   ],
   "source": [
    "# include abbreviated month and 2 digit year\n",
    "format_d = \"%b %y\"\n",
    "now.strftime(format_d)\n"
   ]
  },
  {
   "cell_type": "markdown",
   "id": "a1cdca76",
   "metadata": {},
   "source": [
    "For Time:\n",
    "\n",
    "    For quick/easy 24-hour military time with minutes and seconds:\n",
    "        %T (e.g. 17:04:49)\n",
    "    For the hour of the day:\n",
    "        %H: 0-padded 24-hour time (e.g. 01, 12, 13,23)\n",
    "        %I: 0-padded 12-hour time (e.g. 01, 12, 01, 11)\n",
    "            %p: AM/PM\n",
    "    For minutes:\n",
    "        %M: 0-padded 2-digit minutes\n",
    "    For seconds:\n",
    "        %S\n",
    "\n",
    "The code below defines the default datetime format with all of the codes used."
   ]
  },
  {
   "cell_type": "code",
   "execution_count": 11,
   "id": "48dbf984",
   "metadata": {},
   "outputs": [
    {
     "name": "stdout",
     "output_type": "stream",
     "text": [
      "2023-09-23 17:13:13.638679\n"
     ]
    },
    {
     "data": {
      "text/plain": [
       "'2023-09-23 17:13:13.638679'"
      ]
     },
     "execution_count": 11,
     "metadata": {},
     "output_type": "execute_result"
    }
   ],
   "source": [
    "## the default datetime format\n",
    "default =\"%Y-%m-%d %H:%M:%S.%f\"\n",
    "print(now)\n",
    "now.strftime(default)"
   ]
  },
  {
   "cell_type": "markdown",
   "id": "a1fb44c3",
   "metadata": {},
   "source": [
    "Let's try some time formats. Include the date with slashs between and add the 12-hour time with AM or PM. Do not include milliseconds."
   ]
  },
  {
   "cell_type": "code",
   "execution_count": 12,
   "id": "3b6540e1",
   "metadata": {},
   "outputs": [
    {
     "data": {
      "text/plain": [
       "'09/23/2023 05:13:13 PM'"
      ]
     },
     "execution_count": 12,
     "metadata": {},
     "output_type": "execute_result"
    }
   ],
   "source": [
    "# Example US Formatted 12-hour date/time with AM/PM\n",
    "fmt = \"%m/%d/%Y %I:%M:%S %p\"\n",
    "now.strftime(fmt)"
   ]
  },
  {
   "cell_type": "markdown",
   "id": "f30ab793",
   "metadata": {},
   "source": [
    "Let's try just the 24-hour time with no date:"
   ]
  },
  {
   "cell_type": "code",
   "execution_count": 13,
   "id": "1b9300f7",
   "metadata": {},
   "outputs": [
    {
     "data": {
      "text/plain": [
       "'17:13:13'"
      ]
     },
     "execution_count": 13,
     "metadata": {},
     "output_type": "execute_result"
    }
   ],
   "source": [
    "## just the time (24 hour time)\n",
    "now.strftime(\"%T\")"
   ]
  },
  {
   "cell_type": "markdown",
   "id": "47ec0507",
   "metadata": {},
   "source": [
    "Summary\n",
    "\n",
    "This lesson introduced time series as any data that has a time, date, or time and date component. We also explored the datetime class in basic Python and demonstrated several options for changing the formatting with .strftime(). There are so many options for formatting! You won't remember the codes, but you should know where to find them and how to apply them to achieve what you are looking for in your datetime output.\n",
    "Key Terms\n",
    "\n",
    "time series\n",
    "\n",
    "frequency\n"
   ]
  },
  {
   "cell_type": "markdown",
   "id": "1dde1aaa",
   "metadata": {},
   "source": [
    "Panda's Datetime Functionality\n",
    "\n",
    "So far, we have just been exploring datetime with the current date and time. Let's look at a data set that has a time series feature. We will be using the Daily Climate Time Series Dataset from Kaggle."
   ]
  },
  {
   "cell_type": "code",
   "execution_count": 14,
   "id": "b6a91378",
   "metadata": {},
   "outputs": [
    {
     "name": "stdout",
     "output_type": "stream",
     "text": [
      "<class 'pandas.core.frame.DataFrame'>\n",
      "RangeIndex: 1462 entries, 0 to 1461\n",
      "Data columns (total 5 columns):\n",
      " #   Column        Non-Null Count  Dtype  \n",
      "---  ------        --------------  -----  \n",
      " 0   date          1462 non-null   object \n",
      " 1   meantemp      1462 non-null   float64\n",
      " 2   humidity      1462 non-null   float64\n",
      " 3   wind_speed    1462 non-null   float64\n",
      " 4   meanpressure  1462 non-null   float64\n",
      "dtypes: float64(4), object(1)\n",
      "memory usage: 57.2+ KB\n"
     ]
    },
    {
     "data": {
      "text/html": [
       "<div>\n",
       "<style scoped>\n",
       "    .dataframe tbody tr th:only-of-type {\n",
       "        vertical-align: middle;\n",
       "    }\n",
       "\n",
       "    .dataframe tbody tr th {\n",
       "        vertical-align: top;\n",
       "    }\n",
       "\n",
       "    .dataframe thead th {\n",
       "        text-align: right;\n",
       "    }\n",
       "</style>\n",
       "<table border=\"1\" class=\"dataframe\">\n",
       "  <thead>\n",
       "    <tr style=\"text-align: right;\">\n",
       "      <th></th>\n",
       "      <th>date</th>\n",
       "      <th>meantemp</th>\n",
       "      <th>humidity</th>\n",
       "      <th>wind_speed</th>\n",
       "      <th>meanpressure</th>\n",
       "    </tr>\n",
       "  </thead>\n",
       "  <tbody>\n",
       "    <tr>\n",
       "      <th>0</th>\n",
       "      <td>2013-01-01</td>\n",
       "      <td>10.000000</td>\n",
       "      <td>84.5</td>\n",
       "      <td>0.000000</td>\n",
       "      <td>1015.666667</td>\n",
       "    </tr>\n",
       "    <tr>\n",
       "      <th>1</th>\n",
       "      <td>2013-01-02</td>\n",
       "      <td>7.400000</td>\n",
       "      <td>92.0</td>\n",
       "      <td>2.980000</td>\n",
       "      <td>1017.800000</td>\n",
       "    </tr>\n",
       "    <tr>\n",
       "      <th>2</th>\n",
       "      <td>2013-01-03</td>\n",
       "      <td>7.166667</td>\n",
       "      <td>87.0</td>\n",
       "      <td>4.633333</td>\n",
       "      <td>1018.666667</td>\n",
       "    </tr>\n",
       "  </tbody>\n",
       "</table>\n",
       "</div>"
      ],
      "text/plain": [
       "         date   meantemp  humidity  wind_speed  meanpressure\n",
       "0  2013-01-01  10.000000      84.5    0.000000   1015.666667\n",
       "1  2013-01-02   7.400000      92.0    2.980000   1017.800000\n",
       "2  2013-01-03   7.166667      87.0    4.633333   1018.666667"
      ]
     },
     "execution_count": 14,
     "metadata": {},
     "output_type": "execute_result"
    }
   ],
   "source": [
    "import pandas as pd\n",
    "url=\"https://docs.google.com/spreadsheets/d/e/2PACX-1vQcpVvVioO23cndDwr1UmKhndrSq6ES6ZUKZ4fkBBqIAavd1_coVPO_yeOye-Ub-cAWlkX3psJvOU8o/pub?output=csv\"\n",
    "df = pd.read_csv(url)\n",
    "df.info()\n",
    "df.head(3)"
   ]
  },
  {
   "cell_type": "markdown",
   "id": "8728ce74",
   "metadata": {},
   "source": [
    "\n",
    "    In the above dataset, we can see that we have a date column. According to our .info(), this column is still a string (\"object\" dtype)\n",
    "    From our .head(), we can see that the date column seems to formatted as\n",
    "        4-digit year, a dash, 2 digit month, a dash, and 2 digit day.\n",
    "        there is no time information, just the date.\n",
    "\n",
    "pd.to_datetime\n",
    "\n",
    "Pandas has a very helpful function called to_datetime that can intelligently convert a column into the \"datetime\" data type.\n",
    "\n",
    "        pd.to_datetime Documentation: \n",
    "        \n",
    "        https://pandas.pydata.org/docs/reference/api/pandas.to_datetime.html\n",
    "\n",
    "Let's convert our date column to datetime and then check our .info() and .head() again. Note, that we are keeping the original \"date\" column as a string, and adding an additional column."
   ]
  },
  {
   "cell_type": "code",
   "execution_count": 15,
   "id": "3b66347c",
   "metadata": {},
   "outputs": [
    {
     "name": "stdout",
     "output_type": "stream",
     "text": [
      "<class 'pandas.core.frame.DataFrame'>\n",
      "RangeIndex: 1462 entries, 0 to 1461\n",
      "Data columns (total 6 columns):\n",
      " #   Column        Non-Null Count  Dtype         \n",
      "---  ------        --------------  -----         \n",
      " 0   date          1462 non-null   object        \n",
      " 1   meantemp      1462 non-null   float64       \n",
      " 2   humidity      1462 non-null   float64       \n",
      " 3   wind_speed    1462 non-null   float64       \n",
      " 4   meanpressure  1462 non-null   float64       \n",
      " 5   datetime      1462 non-null   datetime64[ns]\n",
      "dtypes: datetime64[ns](1), float64(4), object(1)\n",
      "memory usage: 68.7+ KB\n"
     ]
    },
    {
     "data": {
      "text/html": [
       "<div>\n",
       "<style scoped>\n",
       "    .dataframe tbody tr th:only-of-type {\n",
       "        vertical-align: middle;\n",
       "    }\n",
       "\n",
       "    .dataframe tbody tr th {\n",
       "        vertical-align: top;\n",
       "    }\n",
       "\n",
       "    .dataframe thead th {\n",
       "        text-align: right;\n",
       "    }\n",
       "</style>\n",
       "<table border=\"1\" class=\"dataframe\">\n",
       "  <thead>\n",
       "    <tr style=\"text-align: right;\">\n",
       "      <th></th>\n",
       "      <th>date</th>\n",
       "      <th>meantemp</th>\n",
       "      <th>humidity</th>\n",
       "      <th>wind_speed</th>\n",
       "      <th>meanpressure</th>\n",
       "      <th>datetime</th>\n",
       "    </tr>\n",
       "  </thead>\n",
       "  <tbody>\n",
       "    <tr>\n",
       "      <th>0</th>\n",
       "      <td>2013-01-01</td>\n",
       "      <td>10.000000</td>\n",
       "      <td>84.5</td>\n",
       "      <td>0.000000</td>\n",
       "      <td>1015.666667</td>\n",
       "      <td>2013-01-01</td>\n",
       "    </tr>\n",
       "    <tr>\n",
       "      <th>1</th>\n",
       "      <td>2013-01-02</td>\n",
       "      <td>7.400000</td>\n",
       "      <td>92.0</td>\n",
       "      <td>2.980000</td>\n",
       "      <td>1017.800000</td>\n",
       "      <td>2013-01-02</td>\n",
       "    </tr>\n",
       "    <tr>\n",
       "      <th>2</th>\n",
       "      <td>2013-01-03</td>\n",
       "      <td>7.166667</td>\n",
       "      <td>87.0</td>\n",
       "      <td>4.633333</td>\n",
       "      <td>1018.666667</td>\n",
       "      <td>2013-01-03</td>\n",
       "    </tr>\n",
       "  </tbody>\n",
       "</table>\n",
       "</div>"
      ],
      "text/plain": [
       "         date   meantemp  humidity  wind_speed  meanpressure   datetime\n",
       "0  2013-01-01  10.000000      84.5    0.000000   1015.666667 2013-01-01\n",
       "1  2013-01-02   7.400000      92.0    2.980000   1017.800000 2013-01-02\n",
       "2  2013-01-03   7.166667      87.0    4.633333   1018.666667 2013-01-03"
      ]
     },
     "execution_count": 15,
     "metadata": {},
     "output_type": "execute_result"
    }
   ],
   "source": [
    "df['datetime'] = pd.to_datetime(df['date'])\n",
    "df.info()\n",
    "df.head(3)"
   ]
  },
  {
   "cell_type": "markdown",
   "id": "f0ff1bc3",
   "metadata": {},
   "source": [
    "We can see that our new \"datetime\" column's dtype is listed as \"datetime64[ns]\" and the original date is still a string.\n",
    "\n",
    "    Note: [ns] is indicating nano-second precision.\n",
    "\n",
    "    Notice, however, that the values stored in the date and datetime columns both look the same in the output!\n",
    "        This is misleading, because when viewed as a dataframe or series, the output will always show the string version of the datetime even if it is actually a datetime object.\n",
    "    Let's slice out 1 value from both columns with .loc and see how the values look when viewed alone.\n",
    "\n"
   ]
  },
  {
   "cell_type": "code",
   "execution_count": 16,
   "id": "414922d1",
   "metadata": {},
   "outputs": [
    {
     "data": {
      "text/plain": [
       "'2013-01-01'"
      ]
     },
     "execution_count": 16,
     "metadata": {},
     "output_type": "execute_result"
    }
   ],
   "source": [
    "## preview first row from the date column (string)\n",
    "df.loc[0,'date']"
   ]
  },
  {
   "cell_type": "code",
   "execution_count": 17,
   "id": "b50e78aa",
   "metadata": {},
   "outputs": [
    {
     "data": {
      "text/plain": [
       "Timestamp('2013-01-01 00:00:00')"
      ]
     },
     "execution_count": 17,
     "metadata": {},
     "output_type": "execute_result"
    }
   ],
   "source": [
    "## preview firet row from the datetime column (datetime64[ns])\n",
    "df.loc[0, 'datetime']"
   ]
  },
  {
   "cell_type": "markdown",
   "id": "ffc05f47",
   "metadata": {},
   "source": [
    "    When viewed single objects, NOW we can see the difference. The values stored in our new 'datetime' column are a special new type of object called a Timestamp.\n",
    "    The Timestamp class is the simplest datetime variable type in Pandas and shares much of the same functionality as the basic Python datetime class.\n",
    "    We can use .strftime with Pandas Timestamps just as we demonstrated with basic Python datetime class in the previous lesson. The formatting codes will also be the same. \n",
    "\n",
    "For example,\n",
    "\n",
    "    If you wanted \"January 01, 2013\", you would use: \"%B %d, %Y\"."
   ]
  },
  {
   "cell_type": "code",
   "execution_count": 18,
   "id": "269d959b",
   "metadata": {},
   "outputs": [
    {
     "data": {
      "text/plain": [
       "'January,01, 2013'"
      ]
     },
     "execution_count": 18,
     "metadata": {},
     "output_type": "execute_result"
    }
   ],
   "source": [
    "## demonstrate format code\n",
    "fmt = \"%B,%d, %Y\"\n",
    "df.loc[0,'datetime'].strftime(fmt)"
   ]
  },
  {
   "cell_type": "markdown",
   "id": "026980f2",
   "metadata": {},
   "source": [
    "Using the .dt. accessor for a datetime column\n",
    "\n",
    "    Just like we can slice out a string column and use .str. to access string methods, Pandas also has a .dt. for datetime columns.\n",
    "\n",
    ".dt.strftime\n",
    "\n",
    "Here we will apply the desired format and create an entire new column:"
   ]
  },
  {
   "cell_type": "code",
   "execution_count": 19,
   "id": "23f0cc2c",
   "metadata": {},
   "outputs": [
    {
     "data": {
      "text/plain": [
       "0        January,01, 2013\n",
       "1        January,02, 2013\n",
       "2        January,03, 2013\n",
       "3        January,04, 2013\n",
       "4        January,05, 2013\n",
       "              ...        \n",
       "1457    December,28, 2016\n",
       "1458    December,29, 2016\n",
       "1459    December,30, 2016\n",
       "1460    December,31, 2016\n",
       "1461     January,01, 2017\n",
       "Name: datetime_fmt, Length: 1462, dtype: object"
      ]
     },
     "execution_count": 19,
     "metadata": {},
     "output_type": "execute_result"
    }
   ],
   "source": [
    "df['datetime_fmt'] = df['datetime'].dt.strftime(fmt)\n",
    "df['datetime_fmt']"
   ]
  },
  {
   "cell_type": "markdown",
   "id": "cb775857",
   "metadata": {},
   "source": [
    "Important Note: .dt.strftime returns a STRING not an actual datetime column. (notice in the output below that the \"datetime_fmt\" column is an \"object\" dtype)"
   ]
  },
  {
   "cell_type": "code",
   "execution_count": 20,
   "id": "e5758853",
   "metadata": {},
   "outputs": [
    {
     "name": "stdout",
     "output_type": "stream",
     "text": [
      "<class 'pandas.core.frame.DataFrame'>\n",
      "RangeIndex: 1462 entries, 0 to 1461\n",
      "Data columns (total 7 columns):\n",
      " #   Column        Non-Null Count  Dtype         \n",
      "---  ------        --------------  -----         \n",
      " 0   date          1462 non-null   object        \n",
      " 1   meantemp      1462 non-null   float64       \n",
      " 2   humidity      1462 non-null   float64       \n",
      " 3   wind_speed    1462 non-null   float64       \n",
      " 4   meanpressure  1462 non-null   float64       \n",
      " 5   datetime      1462 non-null   datetime64[ns]\n",
      " 6   datetime_fmt  1462 non-null   object        \n",
      "dtypes: datetime64[ns](1), float64(4), object(2)\n",
      "memory usage: 80.1+ KB\n"
     ]
    }
   ],
   "source": [
    "df.info()"
   ]
  },
  {
   "cell_type": "markdown",
   "id": "26feb54a",
   "metadata": {},
   "source": [
    "Using .dt.strftime is fine for when we simply want to display dates, but when we actually want to continue to use the feature as a datetime column, we must accept the default formatting.\n",
    "\n",
    "The good news is that pandas is very flexible in how WE format our dates when slicing a datetime column. This is demonstrated below.\n",
    "\n",
    "\n",
    ".dt.year/month/day/hour/etc\n",
    "\n",
    "With the datetime object, we have a great deal of flexibility in accessing the specific information we want. For example, we could obtain just the year."
   ]
  },
  {
   "cell_type": "code",
   "execution_count": 21,
   "id": "c7f94876",
   "metadata": {},
   "outputs": [
    {
     "data": {
      "text/plain": [
       "0    2013\n",
       "1    2013\n",
       "2    2013\n",
       "3    2013\n",
       "4    2013\n",
       "Name: datetime, dtype: int64"
      ]
     },
     "execution_count": 21,
     "metadata": {},
     "output_type": "execute_result"
    }
   ],
   "source": [
    "df['datetime'].dt.year.head()"
   ]
  },
  {
   "cell_type": "markdown",
   "id": "fe156a1b",
   "metadata": {},
   "source": [
    " To clarify, if we were to try this on our \"datetime_fmt\" column (which is just a string), it will not work! Try the following code to demonstrate the value of using the datetime object!"
   ]
  },
  {
   "cell_type": "code",
   "execution_count": 22,
   "id": "ed8f5e7a",
   "metadata": {},
   "outputs": [
    {
     "ename": "AttributeError",
     "evalue": "Can only use .dt accessor with datetimelike values",
     "output_type": "error",
     "traceback": [
      "\u001b[0;31m---------------------------------------------------------------------------\u001b[0m",
      "\u001b[0;31mAttributeError\u001b[0m                            Traceback (most recent call last)",
      "Cell \u001b[0;32mIn [22], line 2\u001b[0m\n\u001b[1;32m      1\u001b[0m \u001b[38;5;66;03m# Attempting to obtain year from a .dt.strftime object will NOT work!\u001b[39;00m\n\u001b[0;32m----> 2\u001b[0m \u001b[43mdf\u001b[49m\u001b[43m[\u001b[49m\u001b[38;5;124;43m'\u001b[39;49m\u001b[38;5;124;43mdatetime_fmt\u001b[39;49m\u001b[38;5;124;43m'\u001b[39;49m\u001b[43m]\u001b[49m\u001b[38;5;241;43m.\u001b[39;49m\u001b[43mdt\u001b[49m\u001b[38;5;241m.\u001b[39myear\u001b[38;5;241m.\u001b[39mhead()\n",
      "File \u001b[0;32m~/anaconda3/envs/dojo-env/lib/python3.9/site-packages/pandas/core/generic.py:5902\u001b[0m, in \u001b[0;36mNDFrame.__getattr__\u001b[0;34m(self, name)\u001b[0m\n\u001b[1;32m   5895\u001b[0m \u001b[38;5;28;01mif\u001b[39;00m (\n\u001b[1;32m   5896\u001b[0m     name \u001b[38;5;129;01mnot\u001b[39;00m \u001b[38;5;129;01min\u001b[39;00m \u001b[38;5;28mself\u001b[39m\u001b[38;5;241m.\u001b[39m_internal_names_set\n\u001b[1;32m   5897\u001b[0m     \u001b[38;5;129;01mand\u001b[39;00m name \u001b[38;5;129;01mnot\u001b[39;00m \u001b[38;5;129;01min\u001b[39;00m \u001b[38;5;28mself\u001b[39m\u001b[38;5;241m.\u001b[39m_metadata\n\u001b[1;32m   5898\u001b[0m     \u001b[38;5;129;01mand\u001b[39;00m name \u001b[38;5;129;01mnot\u001b[39;00m \u001b[38;5;129;01min\u001b[39;00m \u001b[38;5;28mself\u001b[39m\u001b[38;5;241m.\u001b[39m_accessors\n\u001b[1;32m   5899\u001b[0m     \u001b[38;5;129;01mand\u001b[39;00m \u001b[38;5;28mself\u001b[39m\u001b[38;5;241m.\u001b[39m_info_axis\u001b[38;5;241m.\u001b[39m_can_hold_identifiers_and_holds_name(name)\n\u001b[1;32m   5900\u001b[0m ):\n\u001b[1;32m   5901\u001b[0m     \u001b[38;5;28;01mreturn\u001b[39;00m \u001b[38;5;28mself\u001b[39m[name]\n\u001b[0;32m-> 5902\u001b[0m \u001b[38;5;28;01mreturn\u001b[39;00m \u001b[38;5;28;43mobject\u001b[39;49m\u001b[38;5;241;43m.\u001b[39;49m\u001b[38;5;21;43m__getattribute__\u001b[39;49m\u001b[43m(\u001b[49m\u001b[38;5;28;43mself\u001b[39;49m\u001b[43m,\u001b[49m\u001b[43m \u001b[49m\u001b[43mname\u001b[49m\u001b[43m)\u001b[49m\n",
      "File \u001b[0;32m~/anaconda3/envs/dojo-env/lib/python3.9/site-packages/pandas/core/accessor.py:182\u001b[0m, in \u001b[0;36mCachedAccessor.__get__\u001b[0;34m(self, obj, cls)\u001b[0m\n\u001b[1;32m    179\u001b[0m \u001b[38;5;28;01mif\u001b[39;00m obj \u001b[38;5;129;01mis\u001b[39;00m \u001b[38;5;28;01mNone\u001b[39;00m:\n\u001b[1;32m    180\u001b[0m     \u001b[38;5;66;03m# we're accessing the attribute of the class, i.e., Dataset.geo\u001b[39;00m\n\u001b[1;32m    181\u001b[0m     \u001b[38;5;28;01mreturn\u001b[39;00m \u001b[38;5;28mself\u001b[39m\u001b[38;5;241m.\u001b[39m_accessor\n\u001b[0;32m--> 182\u001b[0m accessor_obj \u001b[38;5;241m=\u001b[39m \u001b[38;5;28;43mself\u001b[39;49m\u001b[38;5;241;43m.\u001b[39;49m\u001b[43m_accessor\u001b[49m\u001b[43m(\u001b[49m\u001b[43mobj\u001b[49m\u001b[43m)\u001b[49m\n\u001b[1;32m    183\u001b[0m \u001b[38;5;66;03m# Replace the property with the accessor object. Inspired by:\u001b[39;00m\n\u001b[1;32m    184\u001b[0m \u001b[38;5;66;03m# https://www.pydanny.com/cached-property.html\u001b[39;00m\n\u001b[1;32m    185\u001b[0m \u001b[38;5;66;03m# We need to use object.__setattr__ because we overwrite __setattr__ on\u001b[39;00m\n\u001b[1;32m    186\u001b[0m \u001b[38;5;66;03m# NDFrame\u001b[39;00m\n\u001b[1;32m    187\u001b[0m \u001b[38;5;28mobject\u001b[39m\u001b[38;5;241m.\u001b[39m\u001b[38;5;21m__setattr__\u001b[39m(obj, \u001b[38;5;28mself\u001b[39m\u001b[38;5;241m.\u001b[39m_name, accessor_obj)\n",
      "File \u001b[0;32m~/anaconda3/envs/dojo-env/lib/python3.9/site-packages/pandas/core/indexes/accessors.py:512\u001b[0m, in \u001b[0;36mCombinedDatetimelikeProperties.__new__\u001b[0;34m(cls, data)\u001b[0m\n\u001b[1;32m    509\u001b[0m \u001b[38;5;28;01melif\u001b[39;00m is_period_dtype(data\u001b[38;5;241m.\u001b[39mdtype):\n\u001b[1;32m    510\u001b[0m     \u001b[38;5;28;01mreturn\u001b[39;00m PeriodProperties(data, orig)\n\u001b[0;32m--> 512\u001b[0m \u001b[38;5;28;01mraise\u001b[39;00m \u001b[38;5;167;01mAttributeError\u001b[39;00m(\u001b[38;5;124m\"\u001b[39m\u001b[38;5;124mCan only use .dt accessor with datetimelike values\u001b[39m\u001b[38;5;124m\"\u001b[39m)\n",
      "\u001b[0;31mAttributeError\u001b[0m: Can only use .dt accessor with datetimelike values"
     ]
    }
   ],
   "source": [
    "# Attempting to obtain year from a .dt.strftime object will NOT work!\n",
    "df['datetime_fmt'].dt.year.head()"
   ]
  },
  {
   "cell_type": "markdown",
   "id": "1ac9d4c1",
   "metadata": {},
   "source": [
    "Error!\n",
    "\n",
    "Some other examples:\n",
    "\n",
    "We could obtain just the month:"
   ]
  },
  {
   "cell_type": "code",
   "execution_count": 23,
   "id": "eacf8716",
   "metadata": {},
   "outputs": [
    {
     "data": {
      "text/plain": [
       "0    1\n",
       "1    1\n",
       "2    1\n",
       "3    1\n",
       "4    1\n",
       "Name: datetime, dtype: int64"
      ]
     },
     "execution_count": 23,
     "metadata": {},
     "output_type": "execute_result"
    }
   ],
   "source": [
    "df['datetime'].dt.month.head()"
   ]
  },
  {
   "cell_type": "markdown",
   "id": "bd0ca86e",
   "metadata": {},
   "source": [
    "In some cases, we might be more interested in the quarter:"
   ]
  },
  {
   "cell_type": "code",
   "execution_count": 24,
   "id": "7fda727e",
   "metadata": {},
   "outputs": [
    {
     "data": {
      "text/plain": [
       "0    1\n",
       "1    1\n",
       "2    1\n",
       "3    1\n",
       "4    1\n",
       "Name: datetime, dtype: int64"
      ]
     },
     "execution_count": 24,
     "metadata": {},
     "output_type": "execute_result"
    }
   ],
   "source": [
    "## fiscal year quarter\n",
    "df['datetime'].dt.quarter.head()"
   ]
  },
  {
   "cell_type": "markdown",
   "id": "08fba8bc",
   "metadata": {},
   "source": [
    "We could also just focus on the day of the week:"
   ]
  },
  {
   "cell_type": "code",
   "execution_count": 25,
   "id": "658560bd",
   "metadata": {},
   "outputs": [
    {
     "data": {
      "text/plain": [
       "0    1\n",
       "1    2\n",
       "2    3\n",
       "3    4\n",
       "4    5\n",
       "Name: datetime, dtype: int64"
      ]
     },
     "execution_count": 25,
     "metadata": {},
     "output_type": "execute_result"
    }
   ],
   "source": [
    "## day of the week - numeric\n",
    "df['datetime'].dt.day_of_week.head()"
   ]
  },
  {
   "cell_type": "markdown",
   "id": "50bd0ce7",
   "metadata": {},
   "source": [
    "Or, if we prefer to have the name instead of the number:"
   ]
  },
  {
   "cell_type": "code",
   "execution_count": 26,
   "id": "7c3f6a8c",
   "metadata": {},
   "outputs": [
    {
     "data": {
      "text/plain": [
       "0      Tuesday\n",
       "1    Wednesday\n",
       "2     Thursday\n",
       "3       Friday\n",
       "4     Saturday\n",
       "Name: datetime, dtype: object"
      ]
     },
     "execution_count": 26,
     "metadata": {},
     "output_type": "execute_result"
    }
   ],
   "source": [
    " ## day of the week - String name\n",
    "df['datetime'].dt.day_name().head()"
   ]
  },
  {
   "cell_type": "markdown",
   "id": "c92a9cd7",
   "metadata": {},
   "source": [
    "## Setting a Datetime Index\n",
    "\n",
    "Before we can start slicing our data using the datetime object, we will need to make the datetime column the index for the DataFrame or Series."
   ]
  },
  {
   "cell_type": "code",
   "execution_count": 27,
   "id": "5ae11d42",
   "metadata": {},
   "outputs": [
    {
     "data": {
      "text/html": [
       "<div>\n",
       "<style scoped>\n",
       "    .dataframe tbody tr th:only-of-type {\n",
       "        vertical-align: middle;\n",
       "    }\n",
       "\n",
       "    .dataframe tbody tr th {\n",
       "        vertical-align: top;\n",
       "    }\n",
       "\n",
       "    .dataframe thead th {\n",
       "        text-align: right;\n",
       "    }\n",
       "</style>\n",
       "<table border=\"1\" class=\"dataframe\">\n",
       "  <thead>\n",
       "    <tr style=\"text-align: right;\">\n",
       "      <th></th>\n",
       "      <th>date</th>\n",
       "      <th>meantemp</th>\n",
       "      <th>humidity</th>\n",
       "      <th>wind_speed</th>\n",
       "      <th>meanpressure</th>\n",
       "      <th>datetime_fmt</th>\n",
       "    </tr>\n",
       "    <tr>\n",
       "      <th>datetime</th>\n",
       "      <th></th>\n",
       "      <th></th>\n",
       "      <th></th>\n",
       "      <th></th>\n",
       "      <th></th>\n",
       "      <th></th>\n",
       "    </tr>\n",
       "  </thead>\n",
       "  <tbody>\n",
       "    <tr>\n",
       "      <th>2013-01-01</th>\n",
       "      <td>2013-01-01</td>\n",
       "      <td>10.000000</td>\n",
       "      <td>84.500000</td>\n",
       "      <td>0.000000</td>\n",
       "      <td>1015.666667</td>\n",
       "      <td>January,01, 2013</td>\n",
       "    </tr>\n",
       "    <tr>\n",
       "      <th>2013-01-02</th>\n",
       "      <td>2013-01-02</td>\n",
       "      <td>7.400000</td>\n",
       "      <td>92.000000</td>\n",
       "      <td>2.980000</td>\n",
       "      <td>1017.800000</td>\n",
       "      <td>January,02, 2013</td>\n",
       "    </tr>\n",
       "    <tr>\n",
       "      <th>2013-01-03</th>\n",
       "      <td>2013-01-03</td>\n",
       "      <td>7.166667</td>\n",
       "      <td>87.000000</td>\n",
       "      <td>4.633333</td>\n",
       "      <td>1018.666667</td>\n",
       "      <td>January,03, 2013</td>\n",
       "    </tr>\n",
       "    <tr>\n",
       "      <th>2013-01-04</th>\n",
       "      <td>2013-01-04</td>\n",
       "      <td>8.666667</td>\n",
       "      <td>71.333333</td>\n",
       "      <td>1.233333</td>\n",
       "      <td>1017.166667</td>\n",
       "      <td>January,04, 2013</td>\n",
       "    </tr>\n",
       "    <tr>\n",
       "      <th>2013-01-05</th>\n",
       "      <td>2013-01-05</td>\n",
       "      <td>6.000000</td>\n",
       "      <td>86.833333</td>\n",
       "      <td>3.700000</td>\n",
       "      <td>1016.500000</td>\n",
       "      <td>January,05, 2013</td>\n",
       "    </tr>\n",
       "    <tr>\n",
       "      <th>...</th>\n",
       "      <td>...</td>\n",
       "      <td>...</td>\n",
       "      <td>...</td>\n",
       "      <td>...</td>\n",
       "      <td>...</td>\n",
       "      <td>...</td>\n",
       "    </tr>\n",
       "    <tr>\n",
       "      <th>2016-12-28</th>\n",
       "      <td>2016-12-28</td>\n",
       "      <td>17.217391</td>\n",
       "      <td>68.043478</td>\n",
       "      <td>3.547826</td>\n",
       "      <td>1015.565217</td>\n",
       "      <td>December,28, 2016</td>\n",
       "    </tr>\n",
       "    <tr>\n",
       "      <th>2016-12-29</th>\n",
       "      <td>2016-12-29</td>\n",
       "      <td>15.238095</td>\n",
       "      <td>87.857143</td>\n",
       "      <td>6.000000</td>\n",
       "      <td>1016.904762</td>\n",
       "      <td>December,29, 2016</td>\n",
       "    </tr>\n",
       "    <tr>\n",
       "      <th>2016-12-30</th>\n",
       "      <td>2016-12-30</td>\n",
       "      <td>14.095238</td>\n",
       "      <td>89.666667</td>\n",
       "      <td>6.266667</td>\n",
       "      <td>1017.904762</td>\n",
       "      <td>December,30, 2016</td>\n",
       "    </tr>\n",
       "    <tr>\n",
       "      <th>2016-12-31</th>\n",
       "      <td>2016-12-31</td>\n",
       "      <td>15.052632</td>\n",
       "      <td>87.000000</td>\n",
       "      <td>7.325000</td>\n",
       "      <td>1016.100000</td>\n",
       "      <td>December,31, 2016</td>\n",
       "    </tr>\n",
       "    <tr>\n",
       "      <th>2017-01-01</th>\n",
       "      <td>2017-01-01</td>\n",
       "      <td>10.000000</td>\n",
       "      <td>100.000000</td>\n",
       "      <td>0.000000</td>\n",
       "      <td>1016.000000</td>\n",
       "      <td>January,01, 2017</td>\n",
       "    </tr>\n",
       "  </tbody>\n",
       "</table>\n",
       "<p>1462 rows × 6 columns</p>\n",
       "</div>"
      ],
      "text/plain": [
       "                  date   meantemp    humidity  wind_speed  meanpressure  \\\n",
       "datetime                                                                  \n",
       "2013-01-01  2013-01-01  10.000000   84.500000    0.000000   1015.666667   \n",
       "2013-01-02  2013-01-02   7.400000   92.000000    2.980000   1017.800000   \n",
       "2013-01-03  2013-01-03   7.166667   87.000000    4.633333   1018.666667   \n",
       "2013-01-04  2013-01-04   8.666667   71.333333    1.233333   1017.166667   \n",
       "2013-01-05  2013-01-05   6.000000   86.833333    3.700000   1016.500000   \n",
       "...                ...        ...         ...         ...           ...   \n",
       "2016-12-28  2016-12-28  17.217391   68.043478    3.547826   1015.565217   \n",
       "2016-12-29  2016-12-29  15.238095   87.857143    6.000000   1016.904762   \n",
       "2016-12-30  2016-12-30  14.095238   89.666667    6.266667   1017.904762   \n",
       "2016-12-31  2016-12-31  15.052632   87.000000    7.325000   1016.100000   \n",
       "2017-01-01  2017-01-01  10.000000  100.000000    0.000000   1016.000000   \n",
       "\n",
       "                 datetime_fmt  \n",
       "datetime                       \n",
       "2013-01-01   January,01, 2013  \n",
       "2013-01-02   January,02, 2013  \n",
       "2013-01-03   January,03, 2013  \n",
       "2013-01-04   January,04, 2013  \n",
       "2013-01-05   January,05, 2013  \n",
       "...                       ...  \n",
       "2016-12-28  December,28, 2016  \n",
       "2016-12-29  December,29, 2016  \n",
       "2016-12-30  December,30, 2016  \n",
       "2016-12-31  December,31, 2016  \n",
       "2017-01-01   January,01, 2017  \n",
       "\n",
       "[1462 rows x 6 columns]"
      ]
     },
     "execution_count": 27,
     "metadata": {},
     "output_type": "execute_result"
    }
   ],
   "source": [
    "df = df.set_index('datetime')\n",
    "df"
   ]
  },
  {
   "cell_type": "markdown",
   "id": "863a43a1",
   "metadata": {},
   "source": [
    "If we check the DataFrame's .index, we can confirm that it is indeed still datetime dtype."
   ]
  },
  {
   "cell_type": "code",
   "execution_count": 28,
   "id": "c6c8d34c",
   "metadata": {},
   "outputs": [
    {
     "data": {
      "text/plain": [
       "DatetimeIndex(['2013-01-01', '2013-01-02', '2013-01-03', '2013-01-04',\n",
       "               '2013-01-05', '2013-01-06', '2013-01-07', '2013-01-08',\n",
       "               '2013-01-09', '2013-01-10',\n",
       "               ...\n",
       "               '2016-12-23', '2016-12-24', '2016-12-25', '2016-12-26',\n",
       "               '2016-12-27', '2016-12-28', '2016-12-29', '2016-12-30',\n",
       "               '2016-12-31', '2017-01-01'],\n",
       "              dtype='datetime64[ns]', name='datetime', length=1462, freq=None)"
      ]
     },
     "execution_count": 28,
     "metadata": {},
     "output_type": "execute_result"
    }
   ],
   "source": [
    "df.index"
   ]
  },
  {
   "cell_type": "markdown",
   "id": "88f307da",
   "metadata": {},
   "source": [
    "Slicing a Time Series with pandas\n",
    "\n",
    "    Pandas is incredibly flexible/generous in processing dates when we use .loc.\n",
    "    For example, if we wanted every row from the year 2013, we can just use .loc and a string version of the year"
   ]
  },
  {
   "cell_type": "code",
   "execution_count": 29,
   "id": "8cc09918",
   "metadata": {},
   "outputs": [
    {
     "data": {
      "text/html": [
       "<div>\n",
       "<style scoped>\n",
       "    .dataframe tbody tr th:only-of-type {\n",
       "        vertical-align: middle;\n",
       "    }\n",
       "\n",
       "    .dataframe tbody tr th {\n",
       "        vertical-align: top;\n",
       "    }\n",
       "\n",
       "    .dataframe thead th {\n",
       "        text-align: right;\n",
       "    }\n",
       "</style>\n",
       "<table border=\"1\" class=\"dataframe\">\n",
       "  <thead>\n",
       "    <tr style=\"text-align: right;\">\n",
       "      <th></th>\n",
       "      <th>date</th>\n",
       "      <th>meantemp</th>\n",
       "      <th>humidity</th>\n",
       "      <th>wind_speed</th>\n",
       "      <th>meanpressure</th>\n",
       "      <th>datetime_fmt</th>\n",
       "    </tr>\n",
       "    <tr>\n",
       "      <th>datetime</th>\n",
       "      <th></th>\n",
       "      <th></th>\n",
       "      <th></th>\n",
       "      <th></th>\n",
       "      <th></th>\n",
       "      <th></th>\n",
       "    </tr>\n",
       "  </thead>\n",
       "  <tbody>\n",
       "    <tr>\n",
       "      <th>2013-01-01</th>\n",
       "      <td>2013-01-01</td>\n",
       "      <td>10.000000</td>\n",
       "      <td>84.500000</td>\n",
       "      <td>0.000000</td>\n",
       "      <td>1015.666667</td>\n",
       "      <td>January,01, 2013</td>\n",
       "    </tr>\n",
       "    <tr>\n",
       "      <th>2013-01-02</th>\n",
       "      <td>2013-01-02</td>\n",
       "      <td>7.400000</td>\n",
       "      <td>92.000000</td>\n",
       "      <td>2.980000</td>\n",
       "      <td>1017.800000</td>\n",
       "      <td>January,02, 2013</td>\n",
       "    </tr>\n",
       "    <tr>\n",
       "      <th>2013-01-03</th>\n",
       "      <td>2013-01-03</td>\n",
       "      <td>7.166667</td>\n",
       "      <td>87.000000</td>\n",
       "      <td>4.633333</td>\n",
       "      <td>1018.666667</td>\n",
       "      <td>January,03, 2013</td>\n",
       "    </tr>\n",
       "    <tr>\n",
       "      <th>2013-01-04</th>\n",
       "      <td>2013-01-04</td>\n",
       "      <td>8.666667</td>\n",
       "      <td>71.333333</td>\n",
       "      <td>1.233333</td>\n",
       "      <td>1017.166667</td>\n",
       "      <td>January,04, 2013</td>\n",
       "    </tr>\n",
       "    <tr>\n",
       "      <th>2013-01-05</th>\n",
       "      <td>2013-01-05</td>\n",
       "      <td>6.000000</td>\n",
       "      <td>86.833333</td>\n",
       "      <td>3.700000</td>\n",
       "      <td>1016.500000</td>\n",
       "      <td>January,05, 2013</td>\n",
       "    </tr>\n",
       "    <tr>\n",
       "      <th>...</th>\n",
       "      <td>...</td>\n",
       "      <td>...</td>\n",
       "      <td>...</td>\n",
       "      <td>...</td>\n",
       "      <td>...</td>\n",
       "      <td>...</td>\n",
       "    </tr>\n",
       "    <tr>\n",
       "      <th>2013-12-27</th>\n",
       "      <td>2013-12-27</td>\n",
       "      <td>11.875000</td>\n",
       "      <td>79.875000</td>\n",
       "      <td>1.162500</td>\n",
       "      <td>1018.625000</td>\n",
       "      <td>December,27, 2013</td>\n",
       "    </tr>\n",
       "    <tr>\n",
       "      <th>2013-12-28</th>\n",
       "      <td>2013-12-28</td>\n",
       "      <td>10.875000</td>\n",
       "      <td>70.000000</td>\n",
       "      <td>5.325000</td>\n",
       "      <td>1019.250000</td>\n",
       "      <td>December,28, 2013</td>\n",
       "    </tr>\n",
       "    <tr>\n",
       "      <th>2013-12-29</th>\n",
       "      <td>2013-12-29</td>\n",
       "      <td>10.571429</td>\n",
       "      <td>69.428571</td>\n",
       "      <td>5.325000</td>\n",
       "      <td>1018.500000</td>\n",
       "      <td>December,29, 2013</td>\n",
       "    </tr>\n",
       "    <tr>\n",
       "      <th>2013-12-30</th>\n",
       "      <td>2013-12-30</td>\n",
       "      <td>12.375000</td>\n",
       "      <td>79.500000</td>\n",
       "      <td>6.475000</td>\n",
       "      <td>1018.125000</td>\n",
       "      <td>December,30, 2013</td>\n",
       "    </tr>\n",
       "    <tr>\n",
       "      <th>2013-12-31</th>\n",
       "      <td>2013-12-31</td>\n",
       "      <td>14.500000</td>\n",
       "      <td>89.375000</td>\n",
       "      <td>4.862500</td>\n",
       "      <td>1020.500000</td>\n",
       "      <td>December,31, 2013</td>\n",
       "    </tr>\n",
       "  </tbody>\n",
       "</table>\n",
       "<p>365 rows × 6 columns</p>\n",
       "</div>"
      ],
      "text/plain": [
       "                  date   meantemp   humidity  wind_speed  meanpressure  \\\n",
       "datetime                                                                 \n",
       "2013-01-01  2013-01-01  10.000000  84.500000    0.000000   1015.666667   \n",
       "2013-01-02  2013-01-02   7.400000  92.000000    2.980000   1017.800000   \n",
       "2013-01-03  2013-01-03   7.166667  87.000000    4.633333   1018.666667   \n",
       "2013-01-04  2013-01-04   8.666667  71.333333    1.233333   1017.166667   \n",
       "2013-01-05  2013-01-05   6.000000  86.833333    3.700000   1016.500000   \n",
       "...                ...        ...        ...         ...           ...   \n",
       "2013-12-27  2013-12-27  11.875000  79.875000    1.162500   1018.625000   \n",
       "2013-12-28  2013-12-28  10.875000  70.000000    5.325000   1019.250000   \n",
       "2013-12-29  2013-12-29  10.571429  69.428571    5.325000   1018.500000   \n",
       "2013-12-30  2013-12-30  12.375000  79.500000    6.475000   1018.125000   \n",
       "2013-12-31  2013-12-31  14.500000  89.375000    4.862500   1020.500000   \n",
       "\n",
       "                 datetime_fmt  \n",
       "datetime                       \n",
       "2013-01-01   January,01, 2013  \n",
       "2013-01-02   January,02, 2013  \n",
       "2013-01-03   January,03, 2013  \n",
       "2013-01-04   January,04, 2013  \n",
       "2013-01-05   January,05, 2013  \n",
       "...                       ...  \n",
       "2013-12-27  December,27, 2013  \n",
       "2013-12-28  December,28, 2013  \n",
       "2013-12-29  December,29, 2013  \n",
       "2013-12-30  December,30, 2013  \n",
       "2013-12-31  December,31, 2013  \n",
       "\n",
       "[365 rows x 6 columns]"
      ]
     },
     "execution_count": 29,
     "metadata": {},
     "output_type": "execute_result"
    }
   ],
   "source": [
    "df.loc['2013']"
   ]
  },
  {
   "cell_type": "markdown",
   "id": "9f83aa19",
   "metadata": {},
   "source": [
    "We can also slice a range of dates, for example, all of 2013 and 2014:"
   ]
  },
  {
   "cell_type": "code",
   "execution_count": 30,
   "id": "c5a6f74a",
   "metadata": {},
   "outputs": [
    {
     "data": {
      "text/html": [
       "<div>\n",
       "<style scoped>\n",
       "    .dataframe tbody tr th:only-of-type {\n",
       "        vertical-align: middle;\n",
       "    }\n",
       "\n",
       "    .dataframe tbody tr th {\n",
       "        vertical-align: top;\n",
       "    }\n",
       "\n",
       "    .dataframe thead th {\n",
       "        text-align: right;\n",
       "    }\n",
       "</style>\n",
       "<table border=\"1\" class=\"dataframe\">\n",
       "  <thead>\n",
       "    <tr style=\"text-align: right;\">\n",
       "      <th></th>\n",
       "      <th>date</th>\n",
       "      <th>meantemp</th>\n",
       "      <th>humidity</th>\n",
       "      <th>wind_speed</th>\n",
       "      <th>meanpressure</th>\n",
       "      <th>datetime_fmt</th>\n",
       "    </tr>\n",
       "    <tr>\n",
       "      <th>datetime</th>\n",
       "      <th></th>\n",
       "      <th></th>\n",
       "      <th></th>\n",
       "      <th></th>\n",
       "      <th></th>\n",
       "      <th></th>\n",
       "    </tr>\n",
       "  </thead>\n",
       "  <tbody>\n",
       "    <tr>\n",
       "      <th>2013-01-01</th>\n",
       "      <td>2013-01-01</td>\n",
       "      <td>10.000000</td>\n",
       "      <td>84.500000</td>\n",
       "      <td>0.000000</td>\n",
       "      <td>1015.666667</td>\n",
       "      <td>January,01, 2013</td>\n",
       "    </tr>\n",
       "    <tr>\n",
       "      <th>2013-01-02</th>\n",
       "      <td>2013-01-02</td>\n",
       "      <td>7.400000</td>\n",
       "      <td>92.000000</td>\n",
       "      <td>2.980000</td>\n",
       "      <td>1017.800000</td>\n",
       "      <td>January,02, 2013</td>\n",
       "    </tr>\n",
       "    <tr>\n",
       "      <th>2013-01-03</th>\n",
       "      <td>2013-01-03</td>\n",
       "      <td>7.166667</td>\n",
       "      <td>87.000000</td>\n",
       "      <td>4.633333</td>\n",
       "      <td>1018.666667</td>\n",
       "      <td>January,03, 2013</td>\n",
       "    </tr>\n",
       "    <tr>\n",
       "      <th>2013-01-04</th>\n",
       "      <td>2013-01-04</td>\n",
       "      <td>8.666667</td>\n",
       "      <td>71.333333</td>\n",
       "      <td>1.233333</td>\n",
       "      <td>1017.166667</td>\n",
       "      <td>January,04, 2013</td>\n",
       "    </tr>\n",
       "    <tr>\n",
       "      <th>2013-01-05</th>\n",
       "      <td>2013-01-05</td>\n",
       "      <td>6.000000</td>\n",
       "      <td>86.833333</td>\n",
       "      <td>3.700000</td>\n",
       "      <td>1016.500000</td>\n",
       "      <td>January,05, 2013</td>\n",
       "    </tr>\n",
       "    <tr>\n",
       "      <th>...</th>\n",
       "      <td>...</td>\n",
       "      <td>...</td>\n",
       "      <td>...</td>\n",
       "      <td>...</td>\n",
       "      <td>...</td>\n",
       "      <td>...</td>\n",
       "    </tr>\n",
       "    <tr>\n",
       "      <th>2014-12-27</th>\n",
       "      <td>2014-12-27</td>\n",
       "      <td>10.375000</td>\n",
       "      <td>69.000000</td>\n",
       "      <td>2.775000</td>\n",
       "      <td>1018.625000</td>\n",
       "      <td>December,27, 2014</td>\n",
       "    </tr>\n",
       "    <tr>\n",
       "      <th>2014-12-28</th>\n",
       "      <td>2014-12-28</td>\n",
       "      <td>9.000000</td>\n",
       "      <td>86.000000</td>\n",
       "      <td>0.700000</td>\n",
       "      <td>1019.750000</td>\n",
       "      <td>December,28, 2014</td>\n",
       "    </tr>\n",
       "    <tr>\n",
       "      <th>2014-12-29</th>\n",
       "      <td>2014-12-29</td>\n",
       "      <td>11.125000</td>\n",
       "      <td>72.625000</td>\n",
       "      <td>1.387500</td>\n",
       "      <td>1017.250000</td>\n",
       "      <td>December,29, 2014</td>\n",
       "    </tr>\n",
       "    <tr>\n",
       "      <th>2014-12-30</th>\n",
       "      <td>2014-12-30</td>\n",
       "      <td>11.625000</td>\n",
       "      <td>70.625000</td>\n",
       "      <td>2.550000</td>\n",
       "      <td>1014.625000</td>\n",
       "      <td>December,30, 2014</td>\n",
       "    </tr>\n",
       "    <tr>\n",
       "      <th>2014-12-31</th>\n",
       "      <td>2014-12-31</td>\n",
       "      <td>12.375000</td>\n",
       "      <td>67.125000</td>\n",
       "      <td>2.787500</td>\n",
       "      <td>1016.875000</td>\n",
       "      <td>December,31, 2014</td>\n",
       "    </tr>\n",
       "  </tbody>\n",
       "</table>\n",
       "<p>730 rows × 6 columns</p>\n",
       "</div>"
      ],
      "text/plain": [
       "                  date   meantemp   humidity  wind_speed  meanpressure  \\\n",
       "datetime                                                                 \n",
       "2013-01-01  2013-01-01  10.000000  84.500000    0.000000   1015.666667   \n",
       "2013-01-02  2013-01-02   7.400000  92.000000    2.980000   1017.800000   \n",
       "2013-01-03  2013-01-03   7.166667  87.000000    4.633333   1018.666667   \n",
       "2013-01-04  2013-01-04   8.666667  71.333333    1.233333   1017.166667   \n",
       "2013-01-05  2013-01-05   6.000000  86.833333    3.700000   1016.500000   \n",
       "...                ...        ...        ...         ...           ...   \n",
       "2014-12-27  2014-12-27  10.375000  69.000000    2.775000   1018.625000   \n",
       "2014-12-28  2014-12-28   9.000000  86.000000    0.700000   1019.750000   \n",
       "2014-12-29  2014-12-29  11.125000  72.625000    1.387500   1017.250000   \n",
       "2014-12-30  2014-12-30  11.625000  70.625000    2.550000   1014.625000   \n",
       "2014-12-31  2014-12-31  12.375000  67.125000    2.787500   1016.875000   \n",
       "\n",
       "                 datetime_fmt  \n",
       "datetime                       \n",
       "2013-01-01   January,01, 2013  \n",
       "2013-01-02   January,02, 2013  \n",
       "2013-01-03   January,03, 2013  \n",
       "2013-01-04   January,04, 2013  \n",
       "2013-01-05   January,05, 2013  \n",
       "...                       ...  \n",
       "2014-12-27  December,27, 2014  \n",
       "2014-12-28  December,28, 2014  \n",
       "2014-12-29  December,29, 2014  \n",
       "2014-12-30  December,30, 2014  \n",
       "2014-12-31  December,31, 2014  \n",
       "\n",
       "[730 rows x 6 columns]"
      ]
     },
     "execution_count": 30,
     "metadata": {},
     "output_type": "execute_result"
    }
   ],
   "source": [
    "df.loc['2013':'2014']"
   ]
  },
  {
   "cell_type": "markdown",
   "id": "fb2be6f9",
   "metadata": {},
   "source": [
    "    It is also flexible with the frequency/specificity of the dates that we use.\n",
    "    For example, if we wanted all of 2013 and everything up through June of 2014, we could use:"
   ]
  },
  {
   "cell_type": "code",
   "execution_count": 31,
   "id": "aa6ea3aa",
   "metadata": {},
   "outputs": [
    {
     "data": {
      "text/html": [
       "<div>\n",
       "<style scoped>\n",
       "    .dataframe tbody tr th:only-of-type {\n",
       "        vertical-align: middle;\n",
       "    }\n",
       "\n",
       "    .dataframe tbody tr th {\n",
       "        vertical-align: top;\n",
       "    }\n",
       "\n",
       "    .dataframe thead th {\n",
       "        text-align: right;\n",
       "    }\n",
       "</style>\n",
       "<table border=\"1\" class=\"dataframe\">\n",
       "  <thead>\n",
       "    <tr style=\"text-align: right;\">\n",
       "      <th></th>\n",
       "      <th>date</th>\n",
       "      <th>meantemp</th>\n",
       "      <th>humidity</th>\n",
       "      <th>wind_speed</th>\n",
       "      <th>meanpressure</th>\n",
       "      <th>datetime_fmt</th>\n",
       "    </tr>\n",
       "    <tr>\n",
       "      <th>datetime</th>\n",
       "      <th></th>\n",
       "      <th></th>\n",
       "      <th></th>\n",
       "      <th></th>\n",
       "      <th></th>\n",
       "      <th></th>\n",
       "    </tr>\n",
       "  </thead>\n",
       "  <tbody>\n",
       "    <tr>\n",
       "      <th>2013-01-01</th>\n",
       "      <td>2013-01-01</td>\n",
       "      <td>10.000000</td>\n",
       "      <td>84.500000</td>\n",
       "      <td>0.000000</td>\n",
       "      <td>1015.666667</td>\n",
       "      <td>January,01, 2013</td>\n",
       "    </tr>\n",
       "    <tr>\n",
       "      <th>2013-01-02</th>\n",
       "      <td>2013-01-02</td>\n",
       "      <td>7.400000</td>\n",
       "      <td>92.000000</td>\n",
       "      <td>2.980000</td>\n",
       "      <td>1017.800000</td>\n",
       "      <td>January,02, 2013</td>\n",
       "    </tr>\n",
       "    <tr>\n",
       "      <th>2013-01-03</th>\n",
       "      <td>2013-01-03</td>\n",
       "      <td>7.166667</td>\n",
       "      <td>87.000000</td>\n",
       "      <td>4.633333</td>\n",
       "      <td>1018.666667</td>\n",
       "      <td>January,03, 2013</td>\n",
       "    </tr>\n",
       "    <tr>\n",
       "      <th>2013-01-04</th>\n",
       "      <td>2013-01-04</td>\n",
       "      <td>8.666667</td>\n",
       "      <td>71.333333</td>\n",
       "      <td>1.233333</td>\n",
       "      <td>1017.166667</td>\n",
       "      <td>January,04, 2013</td>\n",
       "    </tr>\n",
       "    <tr>\n",
       "      <th>2013-01-05</th>\n",
       "      <td>2013-01-05</td>\n",
       "      <td>6.000000</td>\n",
       "      <td>86.833333</td>\n",
       "      <td>3.700000</td>\n",
       "      <td>1016.500000</td>\n",
       "      <td>January,05, 2013</td>\n",
       "    </tr>\n",
       "    <tr>\n",
       "      <th>...</th>\n",
       "      <td>...</td>\n",
       "      <td>...</td>\n",
       "      <td>...</td>\n",
       "      <td>...</td>\n",
       "      <td>...</td>\n",
       "      <td>...</td>\n",
       "    </tr>\n",
       "    <tr>\n",
       "      <th>2014-06-26</th>\n",
       "      <td>2014-06-26</td>\n",
       "      <td>32.500000</td>\n",
       "      <td>60.375000</td>\n",
       "      <td>3.237500</td>\n",
       "      <td>1001.000000</td>\n",
       "      <td>June,26, 2014</td>\n",
       "    </tr>\n",
       "    <tr>\n",
       "      <th>2014-06-27</th>\n",
       "      <td>2014-06-27</td>\n",
       "      <td>34.750000</td>\n",
       "      <td>48.500000</td>\n",
       "      <td>9.487500</td>\n",
       "      <td>1001.625000</td>\n",
       "      <td>June,27, 2014</td>\n",
       "    </tr>\n",
       "    <tr>\n",
       "      <th>2014-06-28</th>\n",
       "      <td>2014-06-28</td>\n",
       "      <td>34.875000</td>\n",
       "      <td>49.000000</td>\n",
       "      <td>5.787500</td>\n",
       "      <td>999.375000</td>\n",
       "      <td>June,28, 2014</td>\n",
       "    </tr>\n",
       "    <tr>\n",
       "      <th>2014-06-29</th>\n",
       "      <td>2014-06-29</td>\n",
       "      <td>33.000000</td>\n",
       "      <td>57.750000</td>\n",
       "      <td>9.712500</td>\n",
       "      <td>997.750000</td>\n",
       "      <td>June,29, 2014</td>\n",
       "    </tr>\n",
       "    <tr>\n",
       "      <th>2014-06-30</th>\n",
       "      <td>2014-06-30</td>\n",
       "      <td>32.000000</td>\n",
       "      <td>67.750000</td>\n",
       "      <td>3.250000</td>\n",
       "      <td>997.500000</td>\n",
       "      <td>June,30, 2014</td>\n",
       "    </tr>\n",
       "  </tbody>\n",
       "</table>\n",
       "<p>546 rows × 6 columns</p>\n",
       "</div>"
      ],
      "text/plain": [
       "                  date   meantemp   humidity  wind_speed  meanpressure  \\\n",
       "datetime                                                                 \n",
       "2013-01-01  2013-01-01  10.000000  84.500000    0.000000   1015.666667   \n",
       "2013-01-02  2013-01-02   7.400000  92.000000    2.980000   1017.800000   \n",
       "2013-01-03  2013-01-03   7.166667  87.000000    4.633333   1018.666667   \n",
       "2013-01-04  2013-01-04   8.666667  71.333333    1.233333   1017.166667   \n",
       "2013-01-05  2013-01-05   6.000000  86.833333    3.700000   1016.500000   \n",
       "...                ...        ...        ...         ...           ...   \n",
       "2014-06-26  2014-06-26  32.500000  60.375000    3.237500   1001.000000   \n",
       "2014-06-27  2014-06-27  34.750000  48.500000    9.487500   1001.625000   \n",
       "2014-06-28  2014-06-28  34.875000  49.000000    5.787500    999.375000   \n",
       "2014-06-29  2014-06-29  33.000000  57.750000    9.712500    997.750000   \n",
       "2014-06-30  2014-06-30  32.000000  67.750000    3.250000    997.500000   \n",
       "\n",
       "                datetime_fmt  \n",
       "datetime                      \n",
       "2013-01-01  January,01, 2013  \n",
       "2013-01-02  January,02, 2013  \n",
       "2013-01-03  January,03, 2013  \n",
       "2013-01-04  January,04, 2013  \n",
       "2013-01-05  January,05, 2013  \n",
       "...                      ...  \n",
       "2014-06-26     June,26, 2014  \n",
       "2014-06-27     June,27, 2014  \n",
       "2014-06-28     June,28, 2014  \n",
       "2014-06-29     June,29, 2014  \n",
       "2014-06-30     June,30, 2014  \n",
       "\n",
       "[546 rows x 6 columns]"
      ]
     },
     "execution_count": 31,
     "metadata": {},
     "output_type": "execute_result"
    }
   ],
   "source": [
    "df.loc['2013':'06-2014']"
   ]
  },
  {
   "cell_type": "markdown",
   "id": "ac64f45b",
   "metadata": {},
   "source": [
    "    Pandas even let's us use completely different date formats! (though this would get confusing in your own code and should be avoided).\n",
    "    To get everything from 03/2013 to 06/2014 we could use:"
   ]
  },
  {
   "cell_type": "code",
   "execution_count": 32,
   "id": "d5405e2f",
   "metadata": {},
   "outputs": [
    {
     "data": {
      "text/html": [
       "<div>\n",
       "<style scoped>\n",
       "    .dataframe tbody tr th:only-of-type {\n",
       "        vertical-align: middle;\n",
       "    }\n",
       "\n",
       "    .dataframe tbody tr th {\n",
       "        vertical-align: top;\n",
       "    }\n",
       "\n",
       "    .dataframe thead th {\n",
       "        text-align: right;\n",
       "    }\n",
       "</style>\n",
       "<table border=\"1\" class=\"dataframe\">\n",
       "  <thead>\n",
       "    <tr style=\"text-align: right;\">\n",
       "      <th></th>\n",
       "      <th>date</th>\n",
       "      <th>meantemp</th>\n",
       "      <th>humidity</th>\n",
       "      <th>wind_speed</th>\n",
       "      <th>meanpressure</th>\n",
       "      <th>datetime_fmt</th>\n",
       "    </tr>\n",
       "    <tr>\n",
       "      <th>datetime</th>\n",
       "      <th></th>\n",
       "      <th></th>\n",
       "      <th></th>\n",
       "      <th></th>\n",
       "      <th></th>\n",
       "      <th></th>\n",
       "    </tr>\n",
       "  </thead>\n",
       "  <tbody>\n",
       "    <tr>\n",
       "      <th>2013-03-01</th>\n",
       "      <td>2013-03-01</td>\n",
       "      <td>17.333333</td>\n",
       "      <td>49.333333</td>\n",
       "      <td>24.066667</td>\n",
       "      <td>1016.333333</td>\n",
       "      <td>March,01, 2013</td>\n",
       "    </tr>\n",
       "    <tr>\n",
       "      <th>2013-03-02</th>\n",
       "      <td>2013-03-02</td>\n",
       "      <td>19.000000</td>\n",
       "      <td>54.000000</td>\n",
       "      <td>15.725000</td>\n",
       "      <td>1016.250000</td>\n",
       "      <td>March,02, 2013</td>\n",
       "    </tr>\n",
       "    <tr>\n",
       "      <th>2013-03-03</th>\n",
       "      <td>2013-03-03</td>\n",
       "      <td>19.333333</td>\n",
       "      <td>62.833333</td>\n",
       "      <td>8.633333</td>\n",
       "      <td>1016.166667</td>\n",
       "      <td>March,03, 2013</td>\n",
       "    </tr>\n",
       "    <tr>\n",
       "      <th>2013-03-04</th>\n",
       "      <td>2013-03-04</td>\n",
       "      <td>17.600000</td>\n",
       "      <td>71.000000</td>\n",
       "      <td>5.560000</td>\n",
       "      <td>1015.800000</td>\n",
       "      <td>March,04, 2013</td>\n",
       "    </tr>\n",
       "    <tr>\n",
       "      <th>2013-03-05</th>\n",
       "      <td>2013-03-05</td>\n",
       "      <td>20.875000</td>\n",
       "      <td>61.875000</td>\n",
       "      <td>4.162500</td>\n",
       "      <td>1016.375000</td>\n",
       "      <td>March,05, 2013</td>\n",
       "    </tr>\n",
       "    <tr>\n",
       "      <th>...</th>\n",
       "      <td>...</td>\n",
       "      <td>...</td>\n",
       "      <td>...</td>\n",
       "      <td>...</td>\n",
       "      <td>...</td>\n",
       "      <td>...</td>\n",
       "    </tr>\n",
       "    <tr>\n",
       "      <th>2014-06-26</th>\n",
       "      <td>2014-06-26</td>\n",
       "      <td>32.500000</td>\n",
       "      <td>60.375000</td>\n",
       "      <td>3.237500</td>\n",
       "      <td>1001.000000</td>\n",
       "      <td>June,26, 2014</td>\n",
       "    </tr>\n",
       "    <tr>\n",
       "      <th>2014-06-27</th>\n",
       "      <td>2014-06-27</td>\n",
       "      <td>34.750000</td>\n",
       "      <td>48.500000</td>\n",
       "      <td>9.487500</td>\n",
       "      <td>1001.625000</td>\n",
       "      <td>June,27, 2014</td>\n",
       "    </tr>\n",
       "    <tr>\n",
       "      <th>2014-06-28</th>\n",
       "      <td>2014-06-28</td>\n",
       "      <td>34.875000</td>\n",
       "      <td>49.000000</td>\n",
       "      <td>5.787500</td>\n",
       "      <td>999.375000</td>\n",
       "      <td>June,28, 2014</td>\n",
       "    </tr>\n",
       "    <tr>\n",
       "      <th>2014-06-29</th>\n",
       "      <td>2014-06-29</td>\n",
       "      <td>33.000000</td>\n",
       "      <td>57.750000</td>\n",
       "      <td>9.712500</td>\n",
       "      <td>997.750000</td>\n",
       "      <td>June,29, 2014</td>\n",
       "    </tr>\n",
       "    <tr>\n",
       "      <th>2014-06-30</th>\n",
       "      <td>2014-06-30</td>\n",
       "      <td>32.000000</td>\n",
       "      <td>67.750000</td>\n",
       "      <td>3.250000</td>\n",
       "      <td>997.500000</td>\n",
       "      <td>June,30, 2014</td>\n",
       "    </tr>\n",
       "  </tbody>\n",
       "</table>\n",
       "<p>487 rows × 6 columns</p>\n",
       "</div>"
      ],
      "text/plain": [
       "                  date   meantemp   humidity  wind_speed  meanpressure  \\\n",
       "datetime                                                                 \n",
       "2013-03-01  2013-03-01  17.333333  49.333333   24.066667   1016.333333   \n",
       "2013-03-02  2013-03-02  19.000000  54.000000   15.725000   1016.250000   \n",
       "2013-03-03  2013-03-03  19.333333  62.833333    8.633333   1016.166667   \n",
       "2013-03-04  2013-03-04  17.600000  71.000000    5.560000   1015.800000   \n",
       "2013-03-05  2013-03-05  20.875000  61.875000    4.162500   1016.375000   \n",
       "...                ...        ...        ...         ...           ...   \n",
       "2014-06-26  2014-06-26  32.500000  60.375000    3.237500   1001.000000   \n",
       "2014-06-27  2014-06-27  34.750000  48.500000    9.487500   1001.625000   \n",
       "2014-06-28  2014-06-28  34.875000  49.000000    5.787500    999.375000   \n",
       "2014-06-29  2014-06-29  33.000000  57.750000    9.712500    997.750000   \n",
       "2014-06-30  2014-06-30  32.000000  67.750000    3.250000    997.500000   \n",
       "\n",
       "              datetime_fmt  \n",
       "datetime                    \n",
       "2013-03-01  March,01, 2013  \n",
       "2013-03-02  March,02, 2013  \n",
       "2013-03-03  March,03, 2013  \n",
       "2013-03-04  March,04, 2013  \n",
       "2013-03-05  March,05, 2013  \n",
       "...                    ...  \n",
       "2014-06-26   June,26, 2014  \n",
       "2014-06-27   June,27, 2014  \n",
       "2014-06-28   June,28, 2014  \n",
       "2014-06-29   June,29, 2014  \n",
       "2014-06-30   June,30, 2014  \n",
       "\n",
       "[487 rows x 6 columns]"
      ]
     },
     "execution_count": 32,
     "metadata": {},
     "output_type": "execute_result"
    }
   ],
   "source": [
    "# Just to demonstrate the flexibility, we can use different formats in one line of code\n",
    "df.loc['March, 2013':'06-2014']"
   ]
  },
  {
   "cell_type": "markdown",
   "id": "d01d514c",
   "metadata": {},
   "source": [
    "##  Finding dates of extreme values - using .idxmax() and .idxmin()\n",
    "\n",
    "    Now that we have a datetime index, we can start answering some questions about historical extreme values.\n",
    "        For example, print the following sentence for the most humid day in in this dataset:\n",
    "        \"The most humid day was {date as dd/mm/yyyy}, which was a {day of the week}. The humidity was { max humidity}, and the average temperature was {}\"\n",
    "\n",
    "#### Option 1: Find max and filter (not recommended)\n",
    "\n",
    "    One approach we could take is to find the highest humidity value , we could use df['humidity'].max(), but that would only give us the humidity value.\n",
    "        We will also have to do some filtering with pandas to find the date with the max:"
   ]
  },
  {
   "cell_type": "code",
   "execution_count": 34,
   "id": "c468668a",
   "metadata": {},
   "outputs": [
    {
     "data": {
      "text/html": [
       "<div>\n",
       "<style scoped>\n",
       "    .dataframe tbody tr th:only-of-type {\n",
       "        vertical-align: middle;\n",
       "    }\n",
       "\n",
       "    .dataframe tbody tr th {\n",
       "        vertical-align: top;\n",
       "    }\n",
       "\n",
       "    .dataframe thead th {\n",
       "        text-align: right;\n",
       "    }\n",
       "</style>\n",
       "<table border=\"1\" class=\"dataframe\">\n",
       "  <thead>\n",
       "    <tr style=\"text-align: right;\">\n",
       "      <th></th>\n",
       "      <th>date</th>\n",
       "      <th>meantemp</th>\n",
       "      <th>humidity</th>\n",
       "      <th>wind_speed</th>\n",
       "      <th>meanpressure</th>\n",
       "      <th>datetime_fmt</th>\n",
       "    </tr>\n",
       "    <tr>\n",
       "      <th>datetime</th>\n",
       "      <th></th>\n",
       "      <th></th>\n",
       "      <th></th>\n",
       "      <th></th>\n",
       "      <th></th>\n",
       "      <th></th>\n",
       "    </tr>\n",
       "  </thead>\n",
       "  <tbody>\n",
       "    <tr>\n",
       "      <th>2017-01-01</th>\n",
       "      <td>2017-01-01</td>\n",
       "      <td>10.0</td>\n",
       "      <td>100.0</td>\n",
       "      <td>0.0</td>\n",
       "      <td>1016.0</td>\n",
       "      <td>January,01, 2017</td>\n",
       "    </tr>\n",
       "  </tbody>\n",
       "</table>\n",
       "</div>"
      ],
      "text/plain": [
       "                  date  meantemp  humidity  wind_speed  meanpressure  \\\n",
       "datetime                                                               \n",
       "2017-01-01  2017-01-01      10.0     100.0         0.0        1016.0   \n",
       "\n",
       "                datetime_fmt  \n",
       "datetime                      \n",
       "2017-01-01  January,01, 2017  "
      ]
     },
     "execution_count": 34,
     "metadata": {},
     "output_type": "execute_result"
    }
   ],
   "source": [
    "## using max and slicing to find the index\n",
    "max_humid = df['humidity'].max()\n",
    "most_humid_date = df.loc[ df['humidity']==max_humid]\n",
    "max_date = most_humid_date.index\n",
    "most_humid_date"
   ]
  },
  {
   "cell_type": "code",
   "execution_count": 35,
   "id": "a72658f4",
   "metadata": {},
   "outputs": [
    {
     "name": "stdout",
     "output_type": "stream",
     "text": [
      "The most humid day was Index(['01/01/2017'], dtype='object', name='datetime'), which was a Index(['Sunday'], dtype='object', name='datetime').\n",
      " The humidity was 100.0, and the average temperature was datetime\n",
      "2017-01-01    10.0\n",
      "Name: meantemp, dtype: float64\n"
     ]
    }
   ],
   "source": [
    "## now print the requested statement\n",
    "print(f\"The most humid day was {max_date.strftime('%m/%d/%Y')}, which was a {max_date.day_name()}.\")\n",
    "print(f\" The humidity was {max_humid}, and the average temperature was {most_humid_date['meantemp']}\")"
   ]
  },
  {
   "cell_type": "markdown",
   "id": "5a9baa18",
   "metadata": {},
   "source": [
    "    As you can see, we receive Pandas series for most of the values we sliced, even though we only had 1 row.\n",
    "\n",
    "#### Option 2: Using .idxmax() (recommended)\n",
    "\n",
    "    An alternative (and better) option:\n",
    "        We can use the .idxmax() method to get the INDEX of the maximum value."
   ]
  },
  {
   "cell_type": "code",
   "execution_count": 36,
   "id": "78c05eb3",
   "metadata": {},
   "outputs": [
    {
     "data": {
      "text/plain": [
       "Timestamp('2017-01-01 00:00:00')"
      ]
     },
     "execution_count": 36,
     "metadata": {},
     "output_type": "execute_result"
    }
   ],
   "source": [
    "max_date = df['humidity'].idxmax()\n",
    "max_date"
   ]
  },
  {
   "cell_type": "code",
   "execution_count": 37,
   "id": "05a3fd47",
   "metadata": {},
   "outputs": [
    {
     "data": {
      "text/plain": [
       "date                  2017-01-01\n",
       "meantemp                    10.0\n",
       "humidity                   100.0\n",
       "wind_speed                   0.0\n",
       "meanpressure              1016.0\n",
       "datetime_fmt    January,01, 2017\n",
       "Name: 2017-01-01 00:00:00, dtype: object"
      ]
     },
     "execution_count": 37,
     "metadata": {},
     "output_type": "execute_result"
    }
   ],
   "source": [
    "df.loc[max_date]"
   ]
  },
  {
   "cell_type": "markdown",
   "id": "6890f134",
   "metadata": {},
   "source": [
    "    We need to construct a print statement that will use several pieces of information that we want to pull from our Series for the max_date.\n",
    "\n",
    "    To simplify the f-string we will create, we can save all of the values from our 1 row of 5 values (date, meantemp, humidity, wind_speed, meanpressure) in separate variables. The long/tedious way we could do this is to use a separate line for each variable we want to create and use a df.loc to slice out the right feature."
   ]
  },
  {
   "cell_type": "code",
   "execution_count": 38,
   "id": "97a83226",
   "metadata": {},
   "outputs": [
    {
     "data": {
      "text/plain": [
       "('2017-01-01', 10.0, 100.0, 0.0, 1016.0)"
      ]
     },
     "execution_count": 38,
     "metadata": {},
     "output_type": "execute_result"
    }
   ],
   "source": [
    "## TEDIOUS WAY/BAD WAY\n",
    "## Saving each value from the series as separate variables\n",
    "str_date = df.loc[max_date,'date']\n",
    "temp = df.loc[max_date,'meantemp']\n",
    "humidity = df.loc[max_date,'humidity']\n",
    "wind = df.loc[max_date,'wind_speed']\n",
    "pressure = df.loc[max_date,'meanpressure']\n",
    "# Proving that it worked!\n",
    "str_date, temp, humidity, wind, pressure"
   ]
  },
  {
   "cell_type": "markdown",
   "id": "9ed254e0",
   "metadata": {},
   "source": [
    "    Instead of having to do this in many lines, we can do it all in 1 line by leveraging Python's tuple unpacking.\n",
    "        See this Geeks for Geeks article for more information on unpacking with python.\n",
    "    In short, if we have a variable that contains several values, we can slice out each value into a new variable by setting a variable name for each variable we want to create on the left side of the = and then the container (list/series/etc) that we want to unpack on the right side of the =.\n",
    "\n"
   ]
  },
  {
   "cell_type": "code",
   "execution_count": 39,
   "id": "c529f11f",
   "metadata": {},
   "outputs": [
    {
     "data": {
      "text/plain": [
       "date                  2017-01-01\n",
       "meantemp                    10.0\n",
       "humidity                   100.0\n",
       "wind_speed                   0.0\n",
       "meanpressure              1016.0\n",
       "datetime_fmt    January,01, 2017\n",
       "Name: 2017-01-01 00:00:00, dtype: object"
      ]
     },
     "execution_count": 39,
     "metadata": {},
     "output_type": "execute_result"
    }
   ],
   "source": [
    "df.loc[max_date]"
   ]
  },
  {
   "cell_type": "code",
   "execution_count": 40,
   "id": "19b0f65c",
   "metadata": {},
   "outputs": [
    {
     "ename": "ValueError",
     "evalue": "too many values to unpack (expected 5)",
     "output_type": "error",
     "traceback": [
      "\u001b[0;31m---------------------------------------------------------------------------\u001b[0m",
      "\u001b[0;31mValueError\u001b[0m                                Traceback (most recent call last)",
      "Cell \u001b[0;32mIn [40], line 2\u001b[0m\n\u001b[1;32m      1\u001b[0m \u001b[38;5;66;03m## Saving each value from the series as separate variables\u001b[39;00m\n\u001b[0;32m----> 2\u001b[0m str_date,temp, humidity, wind, pressure \u001b[38;5;241m=\u001b[39m df\u001b[38;5;241m.\u001b[39mloc[max_date]\n\u001b[1;32m      3\u001b[0m \u001b[38;5;66;03m# Proving that it worked!\u001b[39;00m\n\u001b[1;32m      4\u001b[0m str_date, temp, humidity, wind, pressure\n",
      "\u001b[0;31mValueError\u001b[0m: too many values to unpack (expected 5)"
     ]
    }
   ],
   "source": [
    "## Saving each value from the series as separate variables\n",
    "str_date,temp, humidity, wind, pressure = df.loc[max_date]\n",
    "# Proving that it worked!\n",
    "str_date, temp, humidity, wind, pressure"
   ]
  },
  {
   "cell_type": "code",
   "execution_count": 41,
   "id": "a41a0b16",
   "metadata": {},
   "outputs": [
    {
     "name": "stdout",
     "output_type": "stream",
     "text": [
      "The most humid day was 01/01/2017, which was a Sunday.\n",
      "The humidity was 100.00,and the average temperature was 10.00.\n"
     ]
    }
   ],
   "source": [
    "## now print the requested statement\n",
    "print(f\"The most humid day was {max_date.strftime('%m/%d/%Y')}, \\\n",
    "which was a {max_date.day_name()}.\")\n",
    "print(f\"The humidity was {humidity:.2f},\\\n",
    "and the average temperature was {temp:.2f}.\")"
   ]
  },
  {
   "cell_type": "markdown",
   "id": "8c5db663",
   "metadata": {},
   "source": [
    "Summary\n",
    "\n",
    "This lesson demonstrated how to convert a feature in a Pandas Dataframe to a Timestamp object. Both the timestamp object and the basic Python datetime objects can be formatted using strftime, and individual components of the date can be easily extracted from each. You also learned to convert the time series to an index for slicing. Finally, you practiced using .idxmin() or .idxmax() to obtain dates associated with extreme values. "
   ]
  },
  {
   "cell_type": "markdown",
   "id": "9ca8a024",
   "metadata": {},
   "source": [
    "# Custom Formats and Errors\n",
    "\n",
    "''Learning Objectives:\n",
    "\n",
    "    Troubleshoot errors when converting to time series\n",
    "\n",
    "In the previous lesson, pandas was easily able to recognize the original date column as a date and was able to convert the values to the appropriate datetime values. (It recognized year as year, month as month, etc.) While pd.to_datetime is clever, it can still need help interpreting rare formats.\n",
    "\n",
    "### Using pd.to_datetime with custom date formats\n",
    "\n",
    "    While Pandas is usually able to automatically infer the format of the dates to convert, it doesn't always work properly.\n",
    "    In these scenarios, we can add the \"format\" argument to pd.to_datetime and create a date format string that represents the form of the current date column.\n",
    "\n",
    "Let's take a look at a new dataset with a unique format for the datetime, the London Weather data set from Kaggle. We will call this one \"demo\", and will return to our original \"df\" after this.\n",
    "https://www.kaggle.com/datasets/emmanuelfwerr/london-weather-data"
   ]
  },
  {
   "cell_type": "code",
   "execution_count": 43,
   "id": "047e8a4f",
   "metadata": {},
   "outputs": [
    {
     "name": "stdout",
     "output_type": "stream",
     "text": [
      "<class 'pandas.core.frame.DataFrame'>\n",
      "RangeIndex: 15341 entries, 0 to 15340\n",
      "Data columns (total 2 columns):\n",
      " #   Column       Non-Null Count  Dtype  \n",
      "---  ------       --------------  -----  \n",
      " 0   date         15341 non-null  int64  \n",
      " 1   cloud_cover  14938 non-null  float64\n",
      "dtypes: float64(1), int64(1)\n",
      "memory usage: 239.8 KB\n"
     ]
    },
    {
     "data": {
      "text/html": [
       "<div>\n",
       "<style scoped>\n",
       "    .dataframe tbody tr th:only-of-type {\n",
       "        vertical-align: middle;\n",
       "    }\n",
       "\n",
       "    .dataframe tbody tr th {\n",
       "        vertical-align: top;\n",
       "    }\n",
       "\n",
       "    .dataframe thead th {\n",
       "        text-align: right;\n",
       "    }\n",
       "</style>\n",
       "<table border=\"1\" class=\"dataframe\">\n",
       "  <thead>\n",
       "    <tr style=\"text-align: right;\">\n",
       "      <th></th>\n",
       "      <th>date</th>\n",
       "      <th>cloud_cover</th>\n",
       "    </tr>\n",
       "  </thead>\n",
       "  <tbody>\n",
       "    <tr>\n",
       "      <th>0</th>\n",
       "      <td>19790101</td>\n",
       "      <td>2.0</td>\n",
       "    </tr>\n",
       "    <tr>\n",
       "      <th>1</th>\n",
       "      <td>19790102</td>\n",
       "      <td>6.0</td>\n",
       "    </tr>\n",
       "    <tr>\n",
       "      <th>2</th>\n",
       "      <td>19790103</td>\n",
       "      <td>5.0</td>\n",
       "    </tr>\n",
       "    <tr>\n",
       "      <th>3</th>\n",
       "      <td>19790104</td>\n",
       "      <td>8.0</td>\n",
       "    </tr>\n",
       "    <tr>\n",
       "      <th>4</th>\n",
       "      <td>19790105</td>\n",
       "      <td>6.0</td>\n",
       "    </tr>\n",
       "    <tr>\n",
       "      <th>...</th>\n",
       "      <td>...</td>\n",
       "      <td>...</td>\n",
       "    </tr>\n",
       "    <tr>\n",
       "      <th>15336</th>\n",
       "      <td>20201227</td>\n",
       "      <td>1.0</td>\n",
       "    </tr>\n",
       "    <tr>\n",
       "      <th>15337</th>\n",
       "      <td>20201228</td>\n",
       "      <td>7.0</td>\n",
       "    </tr>\n",
       "    <tr>\n",
       "      <th>15338</th>\n",
       "      <td>20201229</td>\n",
       "      <td>7.0</td>\n",
       "    </tr>\n",
       "    <tr>\n",
       "      <th>15339</th>\n",
       "      <td>20201230</td>\n",
       "      <td>6.0</td>\n",
       "    </tr>\n",
       "    <tr>\n",
       "      <th>15340</th>\n",
       "      <td>20201231</td>\n",
       "      <td>7.0</td>\n",
       "    </tr>\n",
       "  </tbody>\n",
       "</table>\n",
       "<p>15341 rows × 2 columns</p>\n",
       "</div>"
      ],
      "text/plain": [
       "           date  cloud_cover\n",
       "0      19790101          2.0\n",
       "1      19790102          6.0\n",
       "2      19790103          5.0\n",
       "3      19790104          8.0\n",
       "4      19790105          6.0\n",
       "...         ...          ...\n",
       "15336  20201227          1.0\n",
       "15337  20201228          7.0\n",
       "15338  20201229          7.0\n",
       "15339  20201230          6.0\n",
       "15340  20201231          7.0\n",
       "\n",
       "[15341 rows x 2 columns]"
      ]
     },
     "execution_count": 43,
     "metadata": {},
     "output_type": "execute_result"
    }
   ],
   "source": [
    "demo = pd.read_csv('https://docs.google.com/spreadsheets/d/e/2PACX-1vT_jChgNsQbHbg4TGepzIqk8XC9DTIKmyyxb1upo5cfZCgbfIUQc2ZC0YMzuU5uApP140Ob49KBjdqh/pub?gid=1198589591&single=true&output=csv', usecols=[0,1])\n",
    "demo.info()\n",
    "demo"
   ]
  },
  {
   "cell_type": "markdown",
   "id": "17910807",
   "metadata": {},
   "source": [
    "    Notice how the date is an integer, not a string.\n",
    "    Let's try using pd.to_datetime without any arguments (as we did in the previous lesson):"
   ]
  },
  {
   "cell_type": "code",
   "execution_count": 45,
   "id": "d46c5bd1",
   "metadata": {},
   "outputs": [
    {
     "data": {
      "text/plain": [
       "0       1970-01-01 00:00:00.019790101\n",
       "1       1970-01-01 00:00:00.019790102\n",
       "2       1970-01-01 00:00:00.019790103\n",
       "3       1970-01-01 00:00:00.019790104\n",
       "4       1970-01-01 00:00:00.019790105\n",
       "                     ...             \n",
       "15336   1970-01-01 00:00:00.020201227\n",
       "15337   1970-01-01 00:00:00.020201228\n",
       "15338   1970-01-01 00:00:00.020201229\n",
       "15339   1970-01-01 00:00:00.020201230\n",
       "15340   1970-01-01 00:00:00.020201231\n",
       "Name: date, Length: 15341, dtype: datetime64[ns]"
      ]
     },
     "execution_count": 45,
     "metadata": {},
     "output_type": "execute_result"
    }
   ],
   "source": [
    "pd.to_datetime(demo['date'])"
   ]
  },
  {
   "cell_type": "markdown",
   "id": "a7b05767",
   "metadata": {},
   "source": [
    "     What happened? What did we get?\n",
    "\n",
    "    Pandas was confused and tried to interpret the integer dates as Unix times.\n",
    "    Unix times are a way of expressing date and time with just numbers. However, the earliest possible unix date is January 01, 1970.\n",
    "    As you can see above, it assigned the date of 1970-01-01 to every date. And then used the integer date as the number of milliseconds AFTER 12:00AM on 01/01/1970.\n",
    "\n",
    "The main thing to notice here is: This is not what we wanted!! It is essential that you check the results of anything you ask Python to do to make sure it is working how you expect it to! If not, you need to investigate further and figure out what the issue is.\n",
    "\n",
    "In this case, python needs a little help from us humans! Let's examine our original date format and see if we can decipher it!\n"
   ]
  },
  {
   "cell_type": "code",
   "execution_count": 46,
   "id": "d8a8fdbe",
   "metadata": {},
   "outputs": [
    {
     "data": {
      "text/plain": [
       "489      19800504\n",
       "4237     19900808\n",
       "5037     19921016\n",
       "6986     19980216\n",
       "7573     19990926\n",
       "8974     20030728\n",
       "11249    20091019\n",
       "12027    20111206\n",
       "13287    20150519\n",
       "14595    20181217\n",
       "Name: date, dtype: int64"
      ]
     },
     "execution_count": 46,
     "metadata": {},
     "output_type": "execute_result"
    }
   ],
   "source": [
    "## displaying random sample\n",
    "demo['date'].sample(n=10).sort_index()"
   ]
  },
  {
   "cell_type": "markdown",
   "id": "42cb93bf",
   "metadata": {},
   "source": [
    "(Your random sample will be different because we did not set a seed here).\n",
    "\n",
    "    It looks like we have 4-digit years (%Y), followed by the 2-digit month (%m) followed by 2-digit day (%d).\n",
    "    Once we identify the format of our original column, we can create the format string that Pandas will need to properly parse these dates.\n",
    "    The combined format code to use is \"%Y%m%d\". Let's try using this as the format argument for to_datetime:"
   ]
  },
  {
   "cell_type": "code",
   "execution_count": 47,
   "id": "0ec27520",
   "metadata": {},
   "outputs": [
    {
     "data": {
      "text/plain": [
       "0       1979-01-01\n",
       "1       1979-01-02\n",
       "2       1979-01-03\n",
       "3       1979-01-04\n",
       "4       1979-01-05\n",
       "           ...    \n",
       "15336   2020-12-27\n",
       "15337   2020-12-28\n",
       "15338   2020-12-29\n",
       "15339   2020-12-30\n",
       "15340   2020-12-31\n",
       "Name: date, Length: 15341, dtype: datetime64[ns]"
      ]
     },
     "execution_count": 47,
     "metadata": {},
     "output_type": "execute_result"
    }
   ],
   "source": [
    "pd.to_datetime(demo['date'], format='%Y%m%d')"
   ]
  },
  {
   "cell_type": "markdown",
   "id": "84f25b6a",
   "metadata": {},
   "source": [
    "    That looks MUCH better. Remember, when pd.to_datetime doesn't return what you would expect, you will need to figure out the format code that is appropriate for your current date formatting.\n",
    "\n",
    "### Handling pd.to_datetime Errors\n",
    "\n",
    "We will use another dataset for this demonstration\n",
    "\n",
    "    We will be working with crime data taken directly from the city of Baltimore via Baltimore's Open Data website: https://data.baltimorecity.gov/search?q=crime data\n",
    "        The exact data we want is \"Part 1 Crime Data\"\n",
    "        It is large file and will take some time to download."
   ]
  },
  {
   "cell_type": "code",
   "execution_count": 48,
   "id": "98c922e1",
   "metadata": {},
   "outputs": [
    {
     "data": {
      "text/html": [
       "<div>\n",
       "<style scoped>\n",
       "    .dataframe tbody tr th:only-of-type {\n",
       "        vertical-align: middle;\n",
       "    }\n",
       "\n",
       "    .dataframe tbody tr th {\n",
       "        vertical-align: top;\n",
       "    }\n",
       "\n",
       "    .dataframe thead th {\n",
       "        text-align: right;\n",
       "    }\n",
       "</style>\n",
       "<table border=\"1\" class=\"dataframe\">\n",
       "  <thead>\n",
       "    <tr style=\"text-align: right;\">\n",
       "      <th></th>\n",
       "      <th>CrimeDateTime</th>\n",
       "      <th>Description</th>\n",
       "      <th>District</th>\n",
       "      <th>Latitude</th>\n",
       "      <th>Longitude</th>\n",
       "    </tr>\n",
       "  </thead>\n",
       "  <tbody>\n",
       "    <tr>\n",
       "      <th>0</th>\n",
       "      <td>2022/07/09 09:30:00+00</td>\n",
       "      <td>ROBBERY - RESIDENCE</td>\n",
       "      <td>NORTHEAST</td>\n",
       "      <td>39.3223</td>\n",
       "      <td>-76.5467</td>\n",
       "    </tr>\n",
       "    <tr>\n",
       "      <th>1</th>\n",
       "      <td>2022/07/09 16:00:00+00</td>\n",
       "      <td>COMMON ASSAULT</td>\n",
       "      <td>SOUTHERN</td>\n",
       "      <td>39.2821</td>\n",
       "      <td>-76.6355</td>\n",
       "    </tr>\n",
       "    <tr>\n",
       "      <th>2</th>\n",
       "      <td>2022/07/09 00:34:28+00</td>\n",
       "      <td>SHOOTING</td>\n",
       "      <td>SOUTHWEST</td>\n",
       "      <td>39.2884</td>\n",
       "      <td>-76.6569</td>\n",
       "    </tr>\n",
       "  </tbody>\n",
       "</table>\n",
       "</div>"
      ],
      "text/plain": [
       "            CrimeDateTime          Description   District  Latitude  Longitude\n",
       "0  2022/07/09 09:30:00+00  ROBBERY - RESIDENCE  NORTHEAST   39.3223   -76.5467\n",
       "1  2022/07/09 16:00:00+00       COMMON ASSAULT   SOUTHERN   39.2821   -76.6355\n",
       "2  2022/07/09 00:34:28+00             SHOOTING  SOUTHWEST   39.2884   -76.6569"
      ]
     },
     "execution_count": 48,
     "metadata": {},
     "output_type": "execute_result"
    }
   ],
   "source": [
    "url = \"https://docs.google.com/spreadsheets/d/e/2PACX-1vQ4lekzpYpo0pA9h1d3KYObIb3lQtAqz289c7jpwckioXvxm4xykz6ZSJpnDwjKTxJ4iqpG0seNJdSZ/pub?gidass=>=312387697&single=true&output=csv\"\n",
    "demo = pd.read_csv(url)\n",
    "demo.head(3)"
   ]
  },
  {
   "cell_type": "markdown",
   "id": "32d6c428",
   "metadata": {},
   "source": [
    "If you try to convert the \"CrimeDateTime\" column to datetime with pd.to_datetime, you will get an error!"
   ]
  },
  {
   "cell_type": "code",
   "execution_count": 50,
   "id": "8f3fc769",
   "metadata": {},
   "outputs": [
    {
     "ename": "OutOfBoundsDatetime",
     "evalue": "Out of bounds nanosecond timestamp: 1202-05-22 10:56:02 present at position 522867",
     "output_type": "error",
     "traceback": [
      "\u001b[0;31m---------------------------------------------------------------------------\u001b[0m",
      "\u001b[0;31mOutOfBoundsDatetime\u001b[0m                       Traceback (most recent call last)",
      "Cell \u001b[0;32mIn [50], line 2\u001b[0m\n\u001b[1;32m      1\u001b[0m \u001b[38;5;66;03m# This will give an error\u001b[39;00m\n\u001b[0;32m----> 2\u001b[0m \u001b[43mpd\u001b[49m\u001b[38;5;241;43m.\u001b[39;49m\u001b[43mto_datetime\u001b[49m\u001b[43m(\u001b[49m\u001b[43mdemo\u001b[49m\u001b[43m[\u001b[49m\u001b[38;5;124;43m'\u001b[39;49m\u001b[38;5;124;43mCrimeDateTime\u001b[39;49m\u001b[38;5;124;43m'\u001b[39;49m\u001b[43m]\u001b[49m\u001b[43m)\u001b[49m\n",
      "File \u001b[0;32m~/anaconda3/envs/dojo-env/lib/python3.9/site-packages/pandas/core/tools/datetimes.py:1068\u001b[0m, in \u001b[0;36mto_datetime\u001b[0;34m(arg, errors, dayfirst, yearfirst, utc, format, exact, unit, infer_datetime_format, origin, cache)\u001b[0m\n\u001b[1;32m   1066\u001b[0m         result \u001b[38;5;241m=\u001b[39m arg\u001b[38;5;241m.\u001b[39mmap(cache_array)\n\u001b[1;32m   1067\u001b[0m     \u001b[38;5;28;01melse\u001b[39;00m:\n\u001b[0;32m-> 1068\u001b[0m         values \u001b[38;5;241m=\u001b[39m \u001b[43mconvert_listlike\u001b[49m\u001b[43m(\u001b[49m\u001b[43marg\u001b[49m\u001b[38;5;241;43m.\u001b[39;49m\u001b[43m_values\u001b[49m\u001b[43m,\u001b[49m\u001b[43m \u001b[49m\u001b[38;5;28;43mformat\u001b[39;49m\u001b[43m)\u001b[49m\n\u001b[1;32m   1069\u001b[0m         result \u001b[38;5;241m=\u001b[39m arg\u001b[38;5;241m.\u001b[39m_constructor(values, index\u001b[38;5;241m=\u001b[39marg\u001b[38;5;241m.\u001b[39mindex, name\u001b[38;5;241m=\u001b[39marg\u001b[38;5;241m.\u001b[39mname)\n\u001b[1;32m   1070\u001b[0m \u001b[38;5;28;01melif\u001b[39;00m \u001b[38;5;28misinstance\u001b[39m(arg, (ABCDataFrame, abc\u001b[38;5;241m.\u001b[39mMutableMapping)):\n",
      "File \u001b[0;32m~/anaconda3/envs/dojo-env/lib/python3.9/site-packages/pandas/core/tools/datetimes.py:438\u001b[0m, in \u001b[0;36m_convert_listlike_datetimes\u001b[0;34m(arg, format, name, tz, unit, errors, infer_datetime_format, dayfirst, yearfirst, exact)\u001b[0m\n\u001b[1;32m    436\u001b[0m \u001b[38;5;28;01massert\u001b[39;00m \u001b[38;5;28mformat\u001b[39m \u001b[38;5;129;01mis\u001b[39;00m \u001b[38;5;28;01mNone\u001b[39;00m \u001b[38;5;129;01mor\u001b[39;00m infer_datetime_format\n\u001b[1;32m    437\u001b[0m utc \u001b[38;5;241m=\u001b[39m tz \u001b[38;5;241m==\u001b[39m \u001b[38;5;124m\"\u001b[39m\u001b[38;5;124mutc\u001b[39m\u001b[38;5;124m\"\u001b[39m\n\u001b[0;32m--> 438\u001b[0m result, tz_parsed \u001b[38;5;241m=\u001b[39m \u001b[43mobjects_to_datetime64ns\u001b[49m\u001b[43m(\u001b[49m\n\u001b[1;32m    439\u001b[0m \u001b[43m    \u001b[49m\u001b[43marg\u001b[49m\u001b[43m,\u001b[49m\n\u001b[1;32m    440\u001b[0m \u001b[43m    \u001b[49m\u001b[43mdayfirst\u001b[49m\u001b[38;5;241;43m=\u001b[39;49m\u001b[43mdayfirst\u001b[49m\u001b[43m,\u001b[49m\n\u001b[1;32m    441\u001b[0m \u001b[43m    \u001b[49m\u001b[43myearfirst\u001b[49m\u001b[38;5;241;43m=\u001b[39;49m\u001b[43myearfirst\u001b[49m\u001b[43m,\u001b[49m\n\u001b[1;32m    442\u001b[0m \u001b[43m    \u001b[49m\u001b[43mutc\u001b[49m\u001b[38;5;241;43m=\u001b[39;49m\u001b[43mutc\u001b[49m\u001b[43m,\u001b[49m\n\u001b[1;32m    443\u001b[0m \u001b[43m    \u001b[49m\u001b[43merrors\u001b[49m\u001b[38;5;241;43m=\u001b[39;49m\u001b[43merrors\u001b[49m\u001b[43m,\u001b[49m\n\u001b[1;32m    444\u001b[0m \u001b[43m    \u001b[49m\u001b[43mrequire_iso8601\u001b[49m\u001b[38;5;241;43m=\u001b[39;49m\u001b[43mrequire_iso8601\u001b[49m\u001b[43m,\u001b[49m\n\u001b[1;32m    445\u001b[0m \u001b[43m    \u001b[49m\u001b[43mallow_object\u001b[49m\u001b[38;5;241;43m=\u001b[39;49m\u001b[38;5;28;43;01mTrue\u001b[39;49;00m\u001b[43m,\u001b[49m\n\u001b[1;32m    446\u001b[0m \u001b[43m\u001b[49m\u001b[43m)\u001b[49m\n\u001b[1;32m    448\u001b[0m \u001b[38;5;28;01mif\u001b[39;00m tz_parsed \u001b[38;5;129;01mis\u001b[39;00m \u001b[38;5;129;01mnot\u001b[39;00m \u001b[38;5;28;01mNone\u001b[39;00m:\n\u001b[1;32m    449\u001b[0m     \u001b[38;5;66;03m# We can take a shortcut since the datetime64 numpy array\u001b[39;00m\n\u001b[1;32m    450\u001b[0m     \u001b[38;5;66;03m# is in UTC\u001b[39;00m\n\u001b[1;32m    451\u001b[0m     dta \u001b[38;5;241m=\u001b[39m DatetimeArray(result, dtype\u001b[38;5;241m=\u001b[39mtz_to_dtype(tz_parsed))\n",
      "File \u001b[0;32m~/anaconda3/envs/dojo-env/lib/python3.9/site-packages/pandas/core/arrays/datetimes.py:2177\u001b[0m, in \u001b[0;36mobjects_to_datetime64ns\u001b[0;34m(data, dayfirst, yearfirst, utc, errors, require_iso8601, allow_object, allow_mixed)\u001b[0m\n\u001b[1;32m   2175\u001b[0m order: Literal[\u001b[38;5;124m\"\u001b[39m\u001b[38;5;124mF\u001b[39m\u001b[38;5;124m\"\u001b[39m, \u001b[38;5;124m\"\u001b[39m\u001b[38;5;124mC\u001b[39m\u001b[38;5;124m\"\u001b[39m] \u001b[38;5;241m=\u001b[39m \u001b[38;5;124m\"\u001b[39m\u001b[38;5;124mF\u001b[39m\u001b[38;5;124m\"\u001b[39m \u001b[38;5;28;01mif\u001b[39;00m flags\u001b[38;5;241m.\u001b[39mf_contiguous \u001b[38;5;28;01melse\u001b[39;00m \u001b[38;5;124m\"\u001b[39m\u001b[38;5;124mC\u001b[39m\u001b[38;5;124m\"\u001b[39m\n\u001b[1;32m   2176\u001b[0m \u001b[38;5;28;01mtry\u001b[39;00m:\n\u001b[0;32m-> 2177\u001b[0m     result, tz_parsed \u001b[38;5;241m=\u001b[39m \u001b[43mtslib\u001b[49m\u001b[38;5;241;43m.\u001b[39;49m\u001b[43marray_to_datetime\u001b[49m\u001b[43m(\u001b[49m\n\u001b[1;32m   2178\u001b[0m \u001b[43m        \u001b[49m\u001b[43mdata\u001b[49m\u001b[38;5;241;43m.\u001b[39;49m\u001b[43mravel\u001b[49m\u001b[43m(\u001b[49m\u001b[38;5;124;43m\"\u001b[39;49m\u001b[38;5;124;43mK\u001b[39;49m\u001b[38;5;124;43m\"\u001b[39;49m\u001b[43m)\u001b[49m\u001b[43m,\u001b[49m\n\u001b[1;32m   2179\u001b[0m \u001b[43m        \u001b[49m\u001b[43merrors\u001b[49m\u001b[38;5;241;43m=\u001b[39;49m\u001b[43merrors\u001b[49m\u001b[43m,\u001b[49m\n\u001b[1;32m   2180\u001b[0m \u001b[43m        \u001b[49m\u001b[43mutc\u001b[49m\u001b[38;5;241;43m=\u001b[39;49m\u001b[43mutc\u001b[49m\u001b[43m,\u001b[49m\n\u001b[1;32m   2181\u001b[0m \u001b[43m        \u001b[49m\u001b[43mdayfirst\u001b[49m\u001b[38;5;241;43m=\u001b[39;49m\u001b[43mdayfirst\u001b[49m\u001b[43m,\u001b[49m\n\u001b[1;32m   2182\u001b[0m \u001b[43m        \u001b[49m\u001b[43myearfirst\u001b[49m\u001b[38;5;241;43m=\u001b[39;49m\u001b[43myearfirst\u001b[49m\u001b[43m,\u001b[49m\n\u001b[1;32m   2183\u001b[0m \u001b[43m        \u001b[49m\u001b[43mrequire_iso8601\u001b[49m\u001b[38;5;241;43m=\u001b[39;49m\u001b[43mrequire_iso8601\u001b[49m\u001b[43m,\u001b[49m\n\u001b[1;32m   2184\u001b[0m \u001b[43m        \u001b[49m\u001b[43mallow_mixed\u001b[49m\u001b[38;5;241;43m=\u001b[39;49m\u001b[43mallow_mixed\u001b[49m\u001b[43m,\u001b[49m\n\u001b[1;32m   2185\u001b[0m \u001b[43m    \u001b[49m\u001b[43m)\u001b[49m\n\u001b[1;32m   2186\u001b[0m     result \u001b[38;5;241m=\u001b[39m result\u001b[38;5;241m.\u001b[39mreshape(data\u001b[38;5;241m.\u001b[39mshape, order\u001b[38;5;241m=\u001b[39morder)\n\u001b[1;32m   2187\u001b[0m \u001b[38;5;28;01mexcept\u001b[39;00m \u001b[38;5;167;01mOverflowError\u001b[39;00m \u001b[38;5;28;01mas\u001b[39;00m err:\n\u001b[1;32m   2188\u001b[0m     \u001b[38;5;66;03m# Exception is raised when a part of date is greater than 32 bit signed int\u001b[39;00m\n",
      "File \u001b[0;32m~/anaconda3/envs/dojo-env/lib/python3.9/site-packages/pandas/_libs/tslib.pyx:427\u001b[0m, in \u001b[0;36mpandas._libs.tslib.array_to_datetime\u001b[0;34m()\u001b[0m\n",
      "File \u001b[0;32m~/anaconda3/envs/dojo-env/lib/python3.9/site-packages/pandas/_libs/tslib.pyx:678\u001b[0m, in \u001b[0;36mpandas._libs.tslib.array_to_datetime\u001b[0;34m()\u001b[0m\n",
      "File \u001b[0;32m~/anaconda3/envs/dojo-env/lib/python3.9/site-packages/pandas/_libs/tslib.pyx:674\u001b[0m, in \u001b[0;36mpandas._libs.tslib.array_to_datetime\u001b[0;34m()\u001b[0m\n",
      "File \u001b[0;32m~/anaconda3/envs/dojo-env/lib/python3.9/site-packages/pandas/_libs/tslib.pyx:649\u001b[0m, in \u001b[0;36mpandas._libs.tslib.array_to_datetime\u001b[0;34m()\u001b[0m\n",
      "File \u001b[0;32m~/anaconda3/envs/dojo-env/lib/python3.9/site-packages/pandas/_libs/tslibs/np_datetime.pyx:212\u001b[0m, in \u001b[0;36mpandas._libs.tslibs.np_datetime.check_dts_bounds\u001b[0;34m()\u001b[0m\n",
      "\u001b[0;31mOutOfBoundsDatetime\u001b[0m: Out of bounds nanosecond timestamp: 1202-05-22 10:56:02 present at position 522867"
     ]
    }
   ],
   "source": [
    "# This will give an error\n",
    "pd.to_datetime(demo['CrimeDateTime'])"
   ]
  },
  {
   "cell_type": "markdown",
   "id": "778681d1",
   "metadata": {},
   "source": [
    "Error!\n",
    "\n",
    "(We are not displaying the whole huge error message here to save space)\n",
    "\n",
    "However, here is a way to try something and get a little insight into what is causing the problem:"
   ]
  },
  {
   "cell_type": "code",
   "execution_count": 51,
   "id": "fa96ac86",
   "metadata": {},
   "outputs": [
    {
     "name": "stdout",
     "output_type": "stream",
     "text": [
      "Out of bounds nanosecond timestamp: 1202-05-22 10:56:02 present at position 522867\n"
     ]
    }
   ],
   "source": [
    "try:\n",
    "        display(pd.to_datetime(demo['CrimeDateTime']))\n",
    "except Exception as e:\n",
    "        print(e)"
   ]
  },
  {
   "cell_type": "markdown",
   "id": "752cd847",
   "metadata": {},
   "source": [
    "    Sometimes there may be some \"bad\" values that are not compatible with the other dates in the column.\n",
    "    In this case, we can leverage the \"errors\" argument of pd.to_datetime.\n",
    "    According to to the docstring for pd.to_datetime:\n",
    "\n",
    "    We can see that if we use errors='coerce', it will replace incompatible values will NaT (Not a Time)."
   ]
  },
  {
   "cell_type": "code",
   "execution_count": 52,
   "id": "b7cb873b",
   "metadata": {},
   "outputs": [
    {
     "data": {
      "text/plain": [
       "1"
      ]
     },
     "execution_count": 52,
     "metadata": {},
     "output_type": "execute_result"
    }
   ],
   "source": [
    "demo['CrimeDateTime'] = pd.to_datetime(demo['CrimeDateTime'], errors='coerce')\n",
    "demo['CrimeDateTime'].isna().sum()"
   ]
  },
  {
   "cell_type": "markdown",
   "id": "089e4fe4",
   "metadata": {},
   "source": [
    "    Make sure to drop or impute any null values for time. In this case we will just drop the one value."
   ]
  },
  {
   "cell_type": "code",
   "execution_count": 53,
   "id": "c3cbfb32",
   "metadata": {},
   "outputs": [
    {
     "data": {
      "text/html": [
       "<div>\n",
       "<style scoped>\n",
       "    .dataframe tbody tr th:only-of-type {\n",
       "        vertical-align: middle;\n",
       "    }\n",
       "\n",
       "    .dataframe tbody tr th {\n",
       "        vertical-align: top;\n",
       "    }\n",
       "\n",
       "    .dataframe thead th {\n",
       "        text-align: right;\n",
       "    }\n",
       "</style>\n",
       "<table border=\"1\" class=\"dataframe\">\n",
       "  <thead>\n",
       "    <tr style=\"text-align: right;\">\n",
       "      <th></th>\n",
       "      <th>CrimeDateTime</th>\n",
       "      <th>Description</th>\n",
       "      <th>District</th>\n",
       "      <th>Latitude</th>\n",
       "      <th>Longitude</th>\n",
       "    </tr>\n",
       "  </thead>\n",
       "  <tbody>\n",
       "    <tr>\n",
       "      <th>0</th>\n",
       "      <td>2022-07-09 09:30:00+00:00</td>\n",
       "      <td>ROBBERY - RESIDENCE</td>\n",
       "      <td>NORTHEAST</td>\n",
       "      <td>39.3223</td>\n",
       "      <td>-76.5467</td>\n",
       "    </tr>\n",
       "    <tr>\n",
       "      <th>1</th>\n",
       "      <td>2022-07-09 16:00:00+00:00</td>\n",
       "      <td>COMMON ASSAULT</td>\n",
       "      <td>SOUTHERN</td>\n",
       "      <td>39.2821</td>\n",
       "      <td>-76.6355</td>\n",
       "    </tr>\n",
       "    <tr>\n",
       "      <th>2</th>\n",
       "      <td>2022-07-09 00:34:28+00:00</td>\n",
       "      <td>SHOOTING</td>\n",
       "      <td>SOUTHWEST</td>\n",
       "      <td>39.2884</td>\n",
       "      <td>-76.6569</td>\n",
       "    </tr>\n",
       "    <tr>\n",
       "      <th>3</th>\n",
       "      <td>2022-07-09 00:34:28+00:00</td>\n",
       "      <td>SHOOTING</td>\n",
       "      <td>SOUTHWEST</td>\n",
       "      <td>39.2884</td>\n",
       "      <td>-76.6569</td>\n",
       "    </tr>\n",
       "    <tr>\n",
       "      <th>4</th>\n",
       "      <td>2022-07-09 18:00:00+00:00</td>\n",
       "      <td>COMMON ASSAULT</td>\n",
       "      <td>NORTHEAST</td>\n",
       "      <td>39.3188</td>\n",
       "      <td>-76.5872</td>\n",
       "    </tr>\n",
       "  </tbody>\n",
       "</table>\n",
       "</div>"
      ],
      "text/plain": [
       "              CrimeDateTime          Description   District  Latitude  \\\n",
       "0 2022-07-09 09:30:00+00:00  ROBBERY - RESIDENCE  NORTHEAST   39.3223   \n",
       "1 2022-07-09 16:00:00+00:00       COMMON ASSAULT   SOUTHERN   39.2821   \n",
       "2 2022-07-09 00:34:28+00:00             SHOOTING  SOUTHWEST   39.2884   \n",
       "3 2022-07-09 00:34:28+00:00             SHOOTING  SOUTHWEST   39.2884   \n",
       "4 2022-07-09 18:00:00+00:00       COMMON ASSAULT  NORTHEAST   39.3188   \n",
       "\n",
       "   Longitude  \n",
       "0   -76.5467  \n",
       "1   -76.6355  \n",
       "2   -76.6569  \n",
       "3   -76.6569  \n",
       "4   -76.5872  "
      ]
     },
     "execution_count": 53,
     "metadata": {},
     "output_type": "execute_result"
    }
   ],
   "source": [
    "demo = demo.dropna(subset=['CrimeDateTime'])\n",
    "demo.head()"
   ]
  },
  {
   "cell_type": "markdown",
   "id": "1635959a",
   "metadata": {},
   "source": [
    "Now that we have dropped the data point that was causing our error, we can try again:"
   ]
  },
  {
   "cell_type": "code",
   "execution_count": 54,
   "id": "1b11f0a7",
   "metadata": {},
   "outputs": [
    {
     "data": {
      "text/plain": [
       "0        2022-07-09 09:30:00+00:00\n",
       "1        2022-07-09 16:00:00+00:00\n",
       "2        2022-07-09 00:34:28+00:00\n",
       "3        2022-07-09 00:34:28+00:00\n",
       "4        2022-07-09 18:00:00+00:00\n",
       "                    ...           \n",
       "527812   2013-07-31 17:45:00+00:00\n",
       "527813   2013-07-31 14:15:00+00:00\n",
       "527814   2013-07-31 21:00:00+00:00\n",
       "527815   2013-07-31 17:00:00+00:00\n",
       "527816   2013-07-31 11:40:00+00:00\n",
       "Name: CrimeDateTime, Length: 527816, dtype: datetime64[ns, UTC]"
      ]
     },
     "execution_count": 54,
     "metadata": {},
     "output_type": "execute_result"
    }
   ],
   "source": [
    "pd.to_datetime(demo['CrimeDateTime'])"
   ]
  },
  {
   "cell_type": "markdown",
   "id": "b674fc63",
   "metadata": {},
   "source": [
    "As you can see, now we were able to convert our feature to a Pandas datetime.\n",
    "Summary\n",
    "\n",
    "While Pandas often is able to convert a feature to datetime without issues, this lesson explored a few solutions if you run into issues. First, if you encounter a unique format in your original dataset, you can \"help\" Pandas figure it out by including the format as an argument when converting it to datetime. If you receive an error due to one or a few data points, you can convert the error to a NaT value and drop it. As always, be sure to check your output along the way to ensure you are getting the results you expect."
   ]
  },
  {
   "cell_type": "markdown",
   "id": "2dd9c1b8",
   "metadata": {},
   "source": [
    "# Timedeltas & Date Ranges\n",
    "\n",
    "''Learning Objectives:\n",
    "\n",
    "    Apply timedeltas to calculate changes between dates and times.\n",
    "    Create date ranges of equally spaced intervals.\n",
    "\n",
    "More Pandas Datetime Functions/Variable Types\n",
    "\n",
    "    Pandas has other Objects for more advanced datetime functionality.\n",
    "    See the Pandas user guide for the summary table of datetime objects, including:\n",
    "        Timedeltas: calculating a change in time.\n",
    "        date_ranges: creating equally spaced intervals\n",
    "\n",
    "Panda's Timedeltas\n",
    "\n",
    "    A time delta is a way to represent an increase or decrease in time. It is used primarily for calculating relative datetimes (e.g. \"30 days before\").\n",
    "    Using pd.to_timedelta ([Documentation])(https://pandas.pydata.org/docs/reference/api/pandas.to_timedelta.html):\n",
    "        The first Argument is the number of time steps (e.g. 30).\n",
    "        Unit: the unit of time (e.g. \"D\").\n",
    "            Possible values:\n",
    "                ‘W’\n",
    "                ‘D’ / ‘days’ / ‘day’,\n",
    "                ‘hours’ / ‘hour’ / ‘hr’ / ‘h’,\n",
    "                ‘m’ / ‘minute’ / ‘min’ / ‘minutes’ / ‘T’\n",
    "                ‘S’ / ‘seconds’ / ‘sec’ / ‘second’\n",
    "                ‘ms’ / ‘milliseconds’ / ‘millisecond’ / ‘milli’ / ‘millis’ / ‘L’\n",
    "                ‘us’ / ‘microseconds’ / ‘microsecond’ / ‘micro’ / ‘micros’ / ‘U’\n",
    "                ‘ns’ / ‘nanoseconds’ / ‘nano’ / ‘nanos’ / ‘nanosecond’ / ‘N’\n",
    "\n",
    "We will return to our Delhi weather dataset and convert the 'date' feature to a datetime column."
   ]
  },
  {
   "cell_type": "code",
   "execution_count": 58,
   "id": "d4c6ee84",
   "metadata": {},
   "outputs": [],
   "source": [
    "import pandas as pd\n",
    "url=\"https://docs.google.com/spreadsheets/d/e/2PACX-1vQcpVvVioO23cndDwr1UmKhndrSq6ES6ZUKZ4fkBBqIAavd1_coVPO_yeOye-Ub-cAWlkX3psJvOU8o/pub?output=csv\"\n",
    "df = pd.read_csv(url)\n",
    "df['datetime'] = pd.to_datetime(df['date'])"
   ]
  },
  {
   "cell_type": "markdown",
   "id": "ecf5eca9",
   "metadata": {},
   "source": [
    "Set the datetime column as the index:"
   ]
  },
  {
   "cell_type": "code",
   "execution_count": 59,
   "id": "e0484997",
   "metadata": {},
   "outputs": [],
   "source": [
    "# set 'datetime' as the index\n",
    "df = df.set_index('datetime')"
   ]
  },
  {
   "cell_type": "markdown",
   "id": "7a409fb5",
   "metadata": {},
   "source": [
    "Now we will set a time delta of 3 days:"
   ]
  },
  {
   "cell_type": "code",
   "execution_count": 60,
   "id": "b5ef3964",
   "metadata": {},
   "outputs": [
    {
     "data": {
      "text/plain": [
       "Timedelta('3 days 00:00:00')"
      ]
     },
     "execution_count": 60,
     "metadata": {},
     "output_type": "execute_result"
    }
   ],
   "source": [
    "# make the time delta\n",
    "delta_3d = pd.to_timedelta(3,'D')\n",
    "delta_3d"
   ]
  },
  {
   "cell_type": "markdown",
   "id": "a3840bf2",
   "metadata": {},
   "source": [
    "Example Use:\n",
    "\n",
    "    For the most humid day in the weather data, what was the average wind speed over the 3 days prior and the 3 days after the most humid day?"
   ]
  },
  {
   "cell_type": "code",
   "execution_count": 61,
   "id": "d7ae5288",
   "metadata": {},
   "outputs": [
    {
     "data": {
      "text/plain": [
       "Timestamp('2016-12-29 00:00:00')"
      ]
     },
     "execution_count": 61,
     "metadata": {},
     "output_type": "execute_result"
    }
   ],
   "source": [
    "max_date = df['humidity'].idxmax()\n",
    "# calc 3 days BEFORE\n",
    "pre_max = max_date - delta_3d\n",
    "pre_max"
   ]
  },
  {
   "cell_type": "code",
   "execution_count": 62,
   "id": "1b5453f5",
   "metadata": {},
   "outputs": [
    {
     "data": {
      "text/plain": [
       "Timestamp('2017-01-04 00:00:00')"
      ]
     },
     "execution_count": 62,
     "metadata": {},
     "output_type": "execute_result"
    }
   ],
   "source": [
    "# calc 3 days AFTER\n",
    "post_max = max_date + delta_3d\n",
    "post_max"
   ]
  },
  {
   "cell_type": "markdown",
   "id": "ae6a1b16",
   "metadata": {},
   "source": [
    "Now that we have our pre and post dates, we can obtain average windspeed by setting those dates as the range and calculating the mean:"
   ]
  },
  {
   "cell_type": "code",
   "execution_count": 63,
   "id": "db38730c",
   "metadata": {},
   "outputs": [
    {
     "data": {
      "text/plain": [
       "4.89791666675"
      ]
     },
     "execution_count": 63,
     "metadata": {},
     "output_type": "execute_result"
    }
   ],
   "source": [
    "mean_windspeed = df.loc[pre_max:post_max,'wind_speed'].mean()\n",
    "mean_windspeed"
   ]
  },
  {
   "cell_type": "markdown",
   "id": "a914a267",
   "metadata": {},
   "source": [
    "### pd.date_range\n",
    "Another option is to store our range of dates as a variable using pd.date_range.\n",
    "\n",
    "    pd.date_range Documentation"
   ]
  },
  {
   "cell_type": "code",
   "execution_count": 65,
   "id": "8c7bdb19",
   "metadata": {},
   "outputs": [
    {
     "data": {
      "text/plain": [
       "DatetimeIndex(['2016-12-29', '2016-12-30', '2016-12-31', '2017-01-01',\n",
       "               '2017-01-02', '2017-01-03', '2017-01-04'],\n",
       "              dtype='datetime64[ns]', freq='D')"
      ]
     },
     "execution_count": 65,
     "metadata": {},
     "output_type": "execute_result"
    }
   ],
   "source": [
    "## making a date range to cover the pre-max to post-max window\n",
    "date_range = pd.date_range(pre_max, post_max)\n",
    "date_range"
   ]
  },
  {
   "cell_type": "markdown",
   "id": "2bb2ea03",
   "metadata": {},
   "source": [
    "Notice that we have a list of indices. When we attempt to run our calculation, we will get an error:"
   ]
  },
  {
   "cell_type": "code",
   "execution_count": 66,
   "id": "1258b830",
   "metadata": {},
   "outputs": [
    {
     "ename": "KeyError",
     "evalue": "\"[Timestamp('2017-01-02 00:00:00'), Timestamp('2017-01-03 00:00:00'), Timestamp('2017-01-04 00:00:00')] not in index\"",
     "output_type": "error",
     "traceback": [
      "\u001b[0;31m---------------------------------------------------------------------------\u001b[0m",
      "\u001b[0;31mKeyError\u001b[0m                                  Traceback (most recent call last)",
      "Cell \u001b[0;32mIn [66], line 2\u001b[0m\n\u001b[1;32m      1\u001b[0m \u001b[38;5;66;03m# this will give an error\u001b[39;00m\n\u001b[0;32m----> 2\u001b[0m \u001b[43mdf\u001b[49m\u001b[38;5;241;43m.\u001b[39;49m\u001b[43mloc\u001b[49m\u001b[43m[\u001b[49m\u001b[43mdate_range\u001b[49m\u001b[43m,\u001b[49m\u001b[38;5;124;43m'\u001b[39;49m\u001b[38;5;124;43mwind_speed\u001b[39;49m\u001b[38;5;124;43m'\u001b[39;49m\u001b[43m]\u001b[49m\u001b[38;5;241m.\u001b[39mmean()\n",
      "File \u001b[0;32m~/anaconda3/envs/dojo-env/lib/python3.9/site-packages/pandas/core/indexing.py:1067\u001b[0m, in \u001b[0;36m_LocationIndexer.__getitem__\u001b[0;34m(self, key)\u001b[0m\n\u001b[1;32m   1065\u001b[0m     \u001b[38;5;28;01mif\u001b[39;00m \u001b[38;5;28mself\u001b[39m\u001b[38;5;241m.\u001b[39m_is_scalar_access(key):\n\u001b[1;32m   1066\u001b[0m         \u001b[38;5;28;01mreturn\u001b[39;00m \u001b[38;5;28mself\u001b[39m\u001b[38;5;241m.\u001b[39mobj\u001b[38;5;241m.\u001b[39m_get_value(\u001b[38;5;241m*\u001b[39mkey, takeable\u001b[38;5;241m=\u001b[39m\u001b[38;5;28mself\u001b[39m\u001b[38;5;241m.\u001b[39m_takeable)\n\u001b[0;32m-> 1067\u001b[0m     \u001b[38;5;28;01mreturn\u001b[39;00m \u001b[38;5;28;43mself\u001b[39;49m\u001b[38;5;241;43m.\u001b[39;49m\u001b[43m_getitem_tuple\u001b[49m\u001b[43m(\u001b[49m\u001b[43mkey\u001b[49m\u001b[43m)\u001b[49m\n\u001b[1;32m   1068\u001b[0m \u001b[38;5;28;01melse\u001b[39;00m:\n\u001b[1;32m   1069\u001b[0m     \u001b[38;5;66;03m# we by definition only have the 0th axis\u001b[39;00m\n\u001b[1;32m   1070\u001b[0m     axis \u001b[38;5;241m=\u001b[39m \u001b[38;5;28mself\u001b[39m\u001b[38;5;241m.\u001b[39maxis \u001b[38;5;129;01mor\u001b[39;00m \u001b[38;5;241m0\u001b[39m\n",
      "File \u001b[0;32m~/anaconda3/envs/dojo-env/lib/python3.9/site-packages/pandas/core/indexing.py:1247\u001b[0m, in \u001b[0;36m_LocIndexer._getitem_tuple\u001b[0;34m(self, tup)\u001b[0m\n\u001b[1;32m   1245\u001b[0m \u001b[38;5;28;01mwith\u001b[39;00m suppress(IndexingError):\n\u001b[1;32m   1246\u001b[0m     tup \u001b[38;5;241m=\u001b[39m \u001b[38;5;28mself\u001b[39m\u001b[38;5;241m.\u001b[39m_expand_ellipsis(tup)\n\u001b[0;32m-> 1247\u001b[0m     \u001b[38;5;28;01mreturn\u001b[39;00m \u001b[38;5;28;43mself\u001b[39;49m\u001b[38;5;241;43m.\u001b[39;49m\u001b[43m_getitem_lowerdim\u001b[49m\u001b[43m(\u001b[49m\u001b[43mtup\u001b[49m\u001b[43m)\u001b[49m\n\u001b[1;32m   1249\u001b[0m \u001b[38;5;66;03m# no multi-index, so validate all of the indexers\u001b[39;00m\n\u001b[1;32m   1250\u001b[0m tup \u001b[38;5;241m=\u001b[39m \u001b[38;5;28mself\u001b[39m\u001b[38;5;241m.\u001b[39m_validate_tuple_indexer(tup)\n",
      "File \u001b[0;32m~/anaconda3/envs/dojo-env/lib/python3.9/site-packages/pandas/core/indexing.py:991\u001b[0m, in \u001b[0;36m_LocationIndexer._getitem_lowerdim\u001b[0;34m(self, tup)\u001b[0m\n\u001b[1;32m    989\u001b[0m             \u001b[38;5;28;01mreturn\u001b[39;00m section\n\u001b[1;32m    990\u001b[0m         \u001b[38;5;66;03m# This is an elided recursive call to iloc/loc\u001b[39;00m\n\u001b[0;32m--> 991\u001b[0m         \u001b[38;5;28;01mreturn\u001b[39;00m \u001b[38;5;28;43mgetattr\u001b[39;49m\u001b[43m(\u001b[49m\u001b[43msection\u001b[49m\u001b[43m,\u001b[49m\u001b[43m \u001b[49m\u001b[38;5;28;43mself\u001b[39;49m\u001b[38;5;241;43m.\u001b[39;49m\u001b[43mname\u001b[49m\u001b[43m)\u001b[49m\u001b[43m[\u001b[49m\u001b[43mnew_key\u001b[49m\u001b[43m]\u001b[49m\n\u001b[1;32m    993\u001b[0m \u001b[38;5;28;01mraise\u001b[39;00m IndexingError(\u001b[38;5;124m\"\u001b[39m\u001b[38;5;124mnot applicable\u001b[39m\u001b[38;5;124m\"\u001b[39m)\n",
      "File \u001b[0;32m~/anaconda3/envs/dojo-env/lib/python3.9/site-packages/pandas/core/indexing.py:1073\u001b[0m, in \u001b[0;36m_LocationIndexer.__getitem__\u001b[0;34m(self, key)\u001b[0m\n\u001b[1;32m   1070\u001b[0m axis \u001b[38;5;241m=\u001b[39m \u001b[38;5;28mself\u001b[39m\u001b[38;5;241m.\u001b[39maxis \u001b[38;5;129;01mor\u001b[39;00m \u001b[38;5;241m0\u001b[39m\n\u001b[1;32m   1072\u001b[0m maybe_callable \u001b[38;5;241m=\u001b[39m com\u001b[38;5;241m.\u001b[39mapply_if_callable(key, \u001b[38;5;28mself\u001b[39m\u001b[38;5;241m.\u001b[39mobj)\n\u001b[0;32m-> 1073\u001b[0m \u001b[38;5;28;01mreturn\u001b[39;00m \u001b[38;5;28;43mself\u001b[39;49m\u001b[38;5;241;43m.\u001b[39;49m\u001b[43m_getitem_axis\u001b[49m\u001b[43m(\u001b[49m\u001b[43mmaybe_callable\u001b[49m\u001b[43m,\u001b[49m\u001b[43m \u001b[49m\u001b[43maxis\u001b[49m\u001b[38;5;241;43m=\u001b[39;49m\u001b[43maxis\u001b[49m\u001b[43m)\u001b[49m\n",
      "File \u001b[0;32m~/anaconda3/envs/dojo-env/lib/python3.9/site-packages/pandas/core/indexing.py:1301\u001b[0m, in \u001b[0;36m_LocIndexer._getitem_axis\u001b[0;34m(self, key, axis)\u001b[0m\n\u001b[1;32m   1298\u001b[0m     \u001b[38;5;28;01mif\u001b[39;00m \u001b[38;5;28mhasattr\u001b[39m(key, \u001b[38;5;124m\"\u001b[39m\u001b[38;5;124mndim\u001b[39m\u001b[38;5;124m\"\u001b[39m) \u001b[38;5;129;01mand\u001b[39;00m key\u001b[38;5;241m.\u001b[39mndim \u001b[38;5;241m>\u001b[39m \u001b[38;5;241m1\u001b[39m:\n\u001b[1;32m   1299\u001b[0m         \u001b[38;5;28;01mraise\u001b[39;00m \u001b[38;5;167;01mValueError\u001b[39;00m(\u001b[38;5;124m\"\u001b[39m\u001b[38;5;124mCannot index with multidimensional key\u001b[39m\u001b[38;5;124m\"\u001b[39m)\n\u001b[0;32m-> 1301\u001b[0m     \u001b[38;5;28;01mreturn\u001b[39;00m \u001b[38;5;28;43mself\u001b[39;49m\u001b[38;5;241;43m.\u001b[39;49m\u001b[43m_getitem_iterable\u001b[49m\u001b[43m(\u001b[49m\u001b[43mkey\u001b[49m\u001b[43m,\u001b[49m\u001b[43m \u001b[49m\u001b[43maxis\u001b[49m\u001b[38;5;241;43m=\u001b[39;49m\u001b[43maxis\u001b[49m\u001b[43m)\u001b[49m\n\u001b[1;32m   1303\u001b[0m \u001b[38;5;66;03m# nested tuple slicing\u001b[39;00m\n\u001b[1;32m   1304\u001b[0m \u001b[38;5;28;01mif\u001b[39;00m is_nested_tuple(key, labels):\n",
      "File \u001b[0;32m~/anaconda3/envs/dojo-env/lib/python3.9/site-packages/pandas/core/indexing.py:1239\u001b[0m, in \u001b[0;36m_LocIndexer._getitem_iterable\u001b[0;34m(self, key, axis)\u001b[0m\n\u001b[1;32m   1236\u001b[0m \u001b[38;5;28mself\u001b[39m\u001b[38;5;241m.\u001b[39m_validate_key(key, axis)\n\u001b[1;32m   1238\u001b[0m \u001b[38;5;66;03m# A collection of keys\u001b[39;00m\n\u001b[0;32m-> 1239\u001b[0m keyarr, indexer \u001b[38;5;241m=\u001b[39m \u001b[38;5;28;43mself\u001b[39;49m\u001b[38;5;241;43m.\u001b[39;49m\u001b[43m_get_listlike_indexer\u001b[49m\u001b[43m(\u001b[49m\u001b[43mkey\u001b[49m\u001b[43m,\u001b[49m\u001b[43m \u001b[49m\u001b[43maxis\u001b[49m\u001b[43m)\u001b[49m\n\u001b[1;32m   1240\u001b[0m \u001b[38;5;28;01mreturn\u001b[39;00m \u001b[38;5;28mself\u001b[39m\u001b[38;5;241m.\u001b[39mobj\u001b[38;5;241m.\u001b[39m_reindex_with_indexers(\n\u001b[1;32m   1241\u001b[0m     {axis: [keyarr, indexer]}, copy\u001b[38;5;241m=\u001b[39m\u001b[38;5;28;01mTrue\u001b[39;00m, allow_dups\u001b[38;5;241m=\u001b[39m\u001b[38;5;28;01mTrue\u001b[39;00m\n\u001b[1;32m   1242\u001b[0m )\n",
      "File \u001b[0;32m~/anaconda3/envs/dojo-env/lib/python3.9/site-packages/pandas/core/indexing.py:1432\u001b[0m, in \u001b[0;36m_LocIndexer._get_listlike_indexer\u001b[0;34m(self, key, axis)\u001b[0m\n\u001b[1;32m   1429\u001b[0m ax \u001b[38;5;241m=\u001b[39m \u001b[38;5;28mself\u001b[39m\u001b[38;5;241m.\u001b[39mobj\u001b[38;5;241m.\u001b[39m_get_axis(axis)\n\u001b[1;32m   1430\u001b[0m axis_name \u001b[38;5;241m=\u001b[39m \u001b[38;5;28mself\u001b[39m\u001b[38;5;241m.\u001b[39mobj\u001b[38;5;241m.\u001b[39m_get_axis_name(axis)\n\u001b[0;32m-> 1432\u001b[0m keyarr, indexer \u001b[38;5;241m=\u001b[39m \u001b[43max\u001b[49m\u001b[38;5;241;43m.\u001b[39;49m\u001b[43m_get_indexer_strict\u001b[49m\u001b[43m(\u001b[49m\u001b[43mkey\u001b[49m\u001b[43m,\u001b[49m\u001b[43m \u001b[49m\u001b[43maxis_name\u001b[49m\u001b[43m)\u001b[49m\n\u001b[1;32m   1434\u001b[0m \u001b[38;5;28;01mreturn\u001b[39;00m keyarr, indexer\n",
      "File \u001b[0;32m~/anaconda3/envs/dojo-env/lib/python3.9/site-packages/pandas/core/indexes/base.py:6070\u001b[0m, in \u001b[0;36mIndex._get_indexer_strict\u001b[0;34m(self, key, axis_name)\u001b[0m\n\u001b[1;32m   6067\u001b[0m \u001b[38;5;28;01melse\u001b[39;00m:\n\u001b[1;32m   6068\u001b[0m     keyarr, indexer, new_indexer \u001b[38;5;241m=\u001b[39m \u001b[38;5;28mself\u001b[39m\u001b[38;5;241m.\u001b[39m_reindex_non_unique(keyarr)\n\u001b[0;32m-> 6070\u001b[0m \u001b[38;5;28;43mself\u001b[39;49m\u001b[38;5;241;43m.\u001b[39;49m\u001b[43m_raise_if_missing\u001b[49m\u001b[43m(\u001b[49m\u001b[43mkeyarr\u001b[49m\u001b[43m,\u001b[49m\u001b[43m \u001b[49m\u001b[43mindexer\u001b[49m\u001b[43m,\u001b[49m\u001b[43m \u001b[49m\u001b[43maxis_name\u001b[49m\u001b[43m)\u001b[49m\n\u001b[1;32m   6072\u001b[0m keyarr \u001b[38;5;241m=\u001b[39m \u001b[38;5;28mself\u001b[39m\u001b[38;5;241m.\u001b[39mtake(indexer)\n\u001b[1;32m   6073\u001b[0m \u001b[38;5;28;01mif\u001b[39;00m \u001b[38;5;28misinstance\u001b[39m(key, Index):\n\u001b[1;32m   6074\u001b[0m     \u001b[38;5;66;03m# GH 42790 - Preserve name from an Index\u001b[39;00m\n",
      "File \u001b[0;32m~/anaconda3/envs/dojo-env/lib/python3.9/site-packages/pandas/core/indexes/base.py:6133\u001b[0m, in \u001b[0;36mIndex._raise_if_missing\u001b[0;34m(self, key, indexer, axis_name)\u001b[0m\n\u001b[1;32m   6130\u001b[0m     \u001b[38;5;28;01mraise\u001b[39;00m \u001b[38;5;167;01mKeyError\u001b[39;00m(\u001b[38;5;124mf\u001b[39m\u001b[38;5;124m\"\u001b[39m\u001b[38;5;124mNone of [\u001b[39m\u001b[38;5;132;01m{\u001b[39;00mkey\u001b[38;5;132;01m}\u001b[39;00m\u001b[38;5;124m] are in the [\u001b[39m\u001b[38;5;132;01m{\u001b[39;00maxis_name\u001b[38;5;132;01m}\u001b[39;00m\u001b[38;5;124m]\u001b[39m\u001b[38;5;124m\"\u001b[39m)\n\u001b[1;32m   6132\u001b[0m not_found \u001b[38;5;241m=\u001b[39m \u001b[38;5;28mlist\u001b[39m(ensure_index(key)[missing_mask\u001b[38;5;241m.\u001b[39mnonzero()[\u001b[38;5;241m0\u001b[39m]]\u001b[38;5;241m.\u001b[39munique())\n\u001b[0;32m-> 6133\u001b[0m \u001b[38;5;28;01mraise\u001b[39;00m \u001b[38;5;167;01mKeyError\u001b[39;00m(\u001b[38;5;124mf\u001b[39m\u001b[38;5;124m\"\u001b[39m\u001b[38;5;132;01m{\u001b[39;00mnot_found\u001b[38;5;132;01m}\u001b[39;00m\u001b[38;5;124m not in index\u001b[39m\u001b[38;5;124m\"\u001b[39m)\n",
      "\u001b[0;31mKeyError\u001b[0m: \"[Timestamp('2017-01-02 00:00:00'), Timestamp('2017-01-03 00:00:00'), Timestamp('2017-01-04 00:00:00')] not in index\""
     ]
    }
   ],
   "source": [
    "# this will give an error\n",
    "df.loc[date_range,'wind_speed'].mean()"
   ]
  },
  {
   "cell_type": "markdown",
   "id": "952737e6",
   "metadata": {},
   "source": [
    "Can you see what caused the error? It turns out that our date range goes beyond the index of our data.\n",
    "\n",
    "This did not cause an error when just using .loc with our pre and post dates because using the range within .loc will just pull any dates that fall within the range, rather than a list of each date in the range.\n",
    "\n",
    "The difference is subtle, but understanding your options and how each work will give you more versatility when writing code."
   ]
  },
  {
   "cell_type": "markdown",
   "id": "a0f6072a",
   "metadata": {},
   "source": [
    "Summary\n",
    "\n",
    "This lesson explored some of the advanced functionality of Pandas related to dates and times. You learned how to create time deltas and define a date_range.\n",
    "\n",
    "\n",
    "Additional Resources\n",
    "\n",
    "    For more information about working with DateTime in pandas and the different types of datetime variables, read the following:\n",
    "        Date Time in Pandas: A Simple Guide for Beginners (2022)\n",
    "        Pandas Doc Page: Time series/ date functionality\n",
    "        Blog Post: Working with datetime in Pandas DataFrame\n",
    "        Article: Pandas>> DateOffset, Timedelta, Period"
   ]
  },
  {
   "cell_type": "code",
   "execution_count": null,
   "id": "ce7df360",
   "metadata": {},
   "outputs": [],
   "source": []
  }
 ],
 "metadata": {
  "kernelspec": {
   "display_name": "Python (dojo-env)",
   "language": "python",
   "name": "dojo-env"
  },
  "language_info": {
   "codemirror_mode": {
    "name": "ipython",
    "version": 3
   },
   "file_extension": ".py",
   "mimetype": "text/x-python",
   "name": "python",
   "nbconvert_exporter": "python",
   "pygments_lexer": "ipython3",
   "version": "3.9.15"
  },
  "toc": {
   "base_numbering": 1,
   "nav_menu": {},
   "number_sections": false,
   "sideBar": true,
   "skip_h1_title": false,
   "title_cell": "Table of Contents",
   "title_sidebar": "Contents",
   "toc_cell": false,
   "toc_position": {},
   "toc_section_display": true,
   "toc_window_display": false
  }
 },
 "nbformat": 4,
 "nbformat_minor": 5
}
